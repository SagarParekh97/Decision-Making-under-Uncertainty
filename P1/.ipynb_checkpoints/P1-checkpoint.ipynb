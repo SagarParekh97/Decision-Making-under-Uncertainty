{
 "cells": [
  {
   "cell_type": "markdown",
   "id": "7c6c448d",
   "metadata": {},
   "source": [
    "# Decision Making under Uncertainty - P1\n",
    "\n",
    "Group members\n",
    "- Mohammad Beigi\n",
    "- Sagar Parekh"
   ]
  },
  {
   "cell_type": "markdown",
   "id": "16b54193",
   "metadata": {},
   "source": [
    "### Goal\n",
    "\n",
    "explain the goal in a small paragraph"
   ]
  },
  {
   "cell_type": "markdown",
   "id": "35f8bbe7",
   "metadata": {},
   "source": [
    "## Import Necessary Packages and Load the Dataset"
   ]
  },
  {
   "cell_type": "code",
   "execution_count": 241,
   "id": "ad10446f",
   "metadata": {},
   "outputs": [],
   "source": [
    "import pandas as pd\n",
    "import numpy as np\n",
    "import matplotlib.pyplot as plt\n",
    "from pgmpy.estimators import BDeuScore, BicScore\n",
    "from pgmpy.estimators import HillClimbSearch, BayesianEstimator\n",
    "from pgmpy.inference import VariableElimination\n",
    "from pgmpy.models import BayesianNetwork\n",
    "import graphviz\n",
    "# from pygobnilp.gobnilp import Gobnilp\n",
    "import torch\n",
    "import torch.nn as nn\n",
    "import torch.utils.data as data_utils\n",
    "from tqdm import tqdm\n",
    "from sklearn.preprocessing import StandardScaler\n"
   ]
  },
  {
   "cell_type": "code",
   "execution_count": 280,
   "id": "3abe8035",
   "metadata": {},
   "outputs": [
    {
     "data": {
      "text/html": [
       "<div>\n",
       "<style scoped>\n",
       "    .dataframe tbody tr th:only-of-type {\n",
       "        vertical-align: middle;\n",
       "    }\n",
       "\n",
       "    .dataframe tbody tr th {\n",
       "        vertical-align: top;\n",
       "    }\n",
       "\n",
       "    .dataframe thead th {\n",
       "        text-align: right;\n",
       "    }\n",
       "</style>\n",
       "<table border=\"1\" class=\"dataframe\">\n",
       "  <thead>\n",
       "    <tr style=\"text-align: right;\">\n",
       "      <th></th>\n",
       "      <th>Age</th>\n",
       "      <th>Sex</th>\n",
       "      <th>ChestPainType</th>\n",
       "      <th>RestingBP</th>\n",
       "      <th>Cholesterol</th>\n",
       "      <th>FastingBS</th>\n",
       "      <th>RestingECG</th>\n",
       "      <th>MaxHR</th>\n",
       "      <th>ExerciseAngina</th>\n",
       "      <th>Oldpeak</th>\n",
       "      <th>ST_Slope</th>\n",
       "      <th>HeartDisease</th>\n",
       "    </tr>\n",
       "  </thead>\n",
       "  <tbody>\n",
       "    <tr>\n",
       "      <th>0</th>\n",
       "      <td>40</td>\n",
       "      <td>M</td>\n",
       "      <td>ATA</td>\n",
       "      <td>140</td>\n",
       "      <td>289</td>\n",
       "      <td>0</td>\n",
       "      <td>Normal</td>\n",
       "      <td>172</td>\n",
       "      <td>N</td>\n",
       "      <td>0.0</td>\n",
       "      <td>Up</td>\n",
       "      <td>0</td>\n",
       "    </tr>\n",
       "    <tr>\n",
       "      <th>1</th>\n",
       "      <td>49</td>\n",
       "      <td>F</td>\n",
       "      <td>NAP</td>\n",
       "      <td>160</td>\n",
       "      <td>180</td>\n",
       "      <td>0</td>\n",
       "      <td>Normal</td>\n",
       "      <td>156</td>\n",
       "      <td>N</td>\n",
       "      <td>1.0</td>\n",
       "      <td>Flat</td>\n",
       "      <td>1</td>\n",
       "    </tr>\n",
       "    <tr>\n",
       "      <th>2</th>\n",
       "      <td>37</td>\n",
       "      <td>M</td>\n",
       "      <td>ATA</td>\n",
       "      <td>130</td>\n",
       "      <td>283</td>\n",
       "      <td>0</td>\n",
       "      <td>ST</td>\n",
       "      <td>98</td>\n",
       "      <td>N</td>\n",
       "      <td>0.0</td>\n",
       "      <td>Up</td>\n",
       "      <td>0</td>\n",
       "    </tr>\n",
       "    <tr>\n",
       "      <th>3</th>\n",
       "      <td>48</td>\n",
       "      <td>F</td>\n",
       "      <td>ASY</td>\n",
       "      <td>138</td>\n",
       "      <td>214</td>\n",
       "      <td>0</td>\n",
       "      <td>Normal</td>\n",
       "      <td>108</td>\n",
       "      <td>Y</td>\n",
       "      <td>1.5</td>\n",
       "      <td>Flat</td>\n",
       "      <td>1</td>\n",
       "    </tr>\n",
       "    <tr>\n",
       "      <th>4</th>\n",
       "      <td>54</td>\n",
       "      <td>M</td>\n",
       "      <td>NAP</td>\n",
       "      <td>150</td>\n",
       "      <td>195</td>\n",
       "      <td>0</td>\n",
       "      <td>Normal</td>\n",
       "      <td>122</td>\n",
       "      <td>N</td>\n",
       "      <td>0.0</td>\n",
       "      <td>Up</td>\n",
       "      <td>0</td>\n",
       "    </tr>\n",
       "  </tbody>\n",
       "</table>\n",
       "</div>"
      ],
      "text/plain": [
       "   Age Sex ChestPainType  RestingBP  Cholesterol  FastingBS RestingECG  MaxHR  \\\n",
       "0   40   M           ATA        140          289          0     Normal    172   \n",
       "1   49   F           NAP        160          180          0     Normal    156   \n",
       "2   37   M           ATA        130          283          0         ST     98   \n",
       "3   48   F           ASY        138          214          0     Normal    108   \n",
       "4   54   M           NAP        150          195          0     Normal    122   \n",
       "\n",
       "  ExerciseAngina  Oldpeak ST_Slope  HeartDisease  \n",
       "0              N      0.0       Up             0  \n",
       "1              N      1.0     Flat             1  \n",
       "2              N      0.0       Up             0  \n",
       "3              Y      1.5     Flat             1  \n",
       "4              N      0.0       Up             0  "
      ]
     },
     "execution_count": 280,
     "metadata": {},
     "output_type": "execute_result"
    }
   ],
   "source": [
    "raw_data = pd.read_csv('heart.csv')\n",
    "raw_data.head()\n"
   ]
  },
  {
   "cell_type": "markdown",
   "id": "36a37035",
   "metadata": {},
   "source": [
    "## Analyzing the Data"
   ]
  },
  {
   "cell_type": "code",
   "execution_count": null,
   "id": "ec2a0534",
   "metadata": {},
   "outputs": [],
   "source": []
  },
  {
   "cell_type": "code",
   "execution_count": null,
   "id": "f6bd8acd",
   "metadata": {},
   "outputs": [],
   "source": []
  },
  {
   "cell_type": "code",
   "execution_count": null,
   "id": "f281b2ce",
   "metadata": {},
   "outputs": [],
   "source": []
  },
  {
   "cell_type": "code",
   "execution_count": null,
   "id": "bdbcdcbb",
   "metadata": {},
   "outputs": [],
   "source": []
  },
  {
   "cell_type": "code",
   "execution_count": null,
   "id": "f3110b86",
   "metadata": {},
   "outputs": [],
   "source": []
  },
  {
   "cell_type": "code",
   "execution_count": null,
   "id": "1d390cce",
   "metadata": {},
   "outputs": [],
   "source": []
  },
  {
   "cell_type": "markdown",
   "id": "842fc20b",
   "metadata": {},
   "source": [
    "## Processing the Data"
   ]
  },
  {
   "cell_type": "markdown",
   "id": "f37c5a81",
   "metadata": {},
   "source": [
    "The pgmpy package can only handle discrete data. However, some of the attributes in the dataset have continuous values."
   ]
  },
  {
   "cell_type": "code",
   "execution_count": 281,
   "id": "bd330fa8",
   "metadata": {},
   "outputs": [
    {
     "name": "stdout",
     "output_type": "stream",
     "text": [
      "   Age  RestingBP  Cholesterol  MaxHR  Oldpeak\n",
      "0   40        140          289    172      0.0\n",
      "1   49        160          180    156      1.0\n",
      "2   37        130          283     98      0.0\n",
      "3   48        138          214    108      1.5\n",
      "4   54        150          195    122      0.0\n"
     ]
    }
   ],
   "source": [
    "print(raw_data[['Age', 'RestingBP', 'Cholesterol', 'MaxHR', 'Oldpeak']].head())"
   ]
  },
  {
   "cell_type": "markdown",
   "id": "c266cd99",
   "metadata": {},
   "source": [
    "We find the range of the values of these attributes"
   ]
  },
  {
   "cell_type": "code",
   "execution_count": 284,
   "id": "a314f966",
   "metadata": {},
   "outputs": [
    {
     "name": "stdout",
     "output_type": "stream",
     "text": [
      "Age range: 28 - 77\n",
      "RestingBP range: 0 - 200\n",
      "Cholestrol range: 0 - 603\n",
      "MaxHR range: 60 - 202\n",
      "Oldpeak range: -2.6 - 6.2\n"
     ]
    }
   ],
   "source": [
    "print('Age range: {} - {}'.format(raw_data.Age.min(), raw_data.Age.max()))\n",
    "print('RestingBP range: {} - {}'.format(raw_data.RestingBP.min(), raw_data.RestingBP.max()))\n",
    "print('Cholestrol range: {} - {}'.format(raw_data.Cholesterol.min(), raw_data.Cholesterol.max()))\n",
    "print('MaxHR range: {} - {}'.format(raw_data.MaxHR.min(), raw_data.MaxHR.max()))\n",
    "print('Oldpeak range: {} - {}'.format(raw_data.Oldpeak.min(), raw_data.Oldpeak.max()))"
   ]
  },
  {
   "cell_type": "markdown",
   "id": "afadf763",
   "metadata": {},
   "source": [
    "So, we discretize the continuous data into tiers based on the following bins (the last values in the range are inclusive, the first values are not)\n",
    "\n",
    "    + Age varies between 28 and 77. We divide it into 3 fixed tiers:\n",
    "    tier 1 - 27 to 43,\n",
    "    tier 2 - 43 to 59,\n",
    "    tier 3 - 59 to 77\n",
    "    \n",
    "    + We discretize RestingBP into 2 tiers:\n",
    "    tier 1 - -1 to 100,\n",
    "    tier 2 - 100 to 200\n",
    "    \n",
    "    + Cholesterol varies between 0 and 603. We divide it into 6 fixed tiers:\n",
    "    tier 1 - -1 to 100,\n",
    "    tier 2 - 100 to 200,\n",
    "    tier 3 - 200 to 300,\n",
    "    tier 4 - 300 to 400,\n",
    "    tier 5 - 400 to 500,\n",
    "    tier 6 - 500 to 603\n",
    "    \n",
    "    + MaxHR varies between 60 and 202. We divide it into 3 fixed tiers: \n",
    "    tier 1 - 59 to 120,\n",
    "    tier 2 - 120 to 170,\n",
    "    tier 3 - 170 to 202\n",
    "    \n",
    "    + Oldpeak varies between -2.6 and 6.2. We discretize it as the following tiers:\n",
    "    tier 1 - -2.7 to 0,\n",
    "    tier 2 - 0 to 2.1,\n",
    "    tier 3 - 2.1 to 4.2,\n",
    "    tier 4 - 4.2 to 6.2"
   ]
  },
  {
   "cell_type": "code",
   "execution_count": 170,
   "id": "674b3562",
   "metadata": {},
   "outputs": [],
   "source": [
    "%%capture output\n",
    "boundaries = {\n",
    "             'Age': np.array([[27, 43],\n",
    "                              [43, 59],\n",
    "                              [59, 77]]),\n",
    "             'RestingBP': np.array([[-1, 100],\n",
    "                                    [100, 200]]),\n",
    "             'Cholesterol': np.array([[-1, 100],\n",
    "                                      [100, 200],\n",
    "                                      [200, 300],\n",
    "                                      [300, 400],\n",
    "                                      [400, 500],\n",
    "                                      [500, 602]]),\n",
    "             'MaxHR': np.array([[59, 120],\n",
    "                                [120, 170],\n",
    "                                [170, 202]]),\n",
    "             'Oldpeak': np.array([[-2.7, 0],\n",
    "                                  [0, 2.1],\n",
    "                                  [2.1, 4.2],\n",
    "                                  [4.2, 6.2]])\n",
    "             }\n",
    "\n",
    "def discretize(series, boundaries):\n",
    "    tiers = [1, 2, 3, 4, 5, 6]\n",
    "    \n",
    "    for idx, elem in enumerate(series):\n",
    "        for i in range(len(boundaries)):\n",
    "            if elem > boundaries[i, 0] and elem <= boundaries[i, 1]:\n",
    "                series[idx] = tiers[i]\n",
    "    \n",
    "    return series\n",
    "    \n",
    "\n",
    "new_columns = {}\n",
    "for i, content in enumerate(raw_data.items()):\n",
    "    (label, series) = content\n",
    "    \n",
    "    if label in ['Age', 'RestingBP', 'Cholesterol', 'MaxHR', 'Oldpeak']:\n",
    "        new_columns[label] = discretize(series, boundaries[label])\n",
    "    else:\n",
    "        new_columns[label] = series\n",
    "\n",
    "data = pd.DataFrame(new_columns)\n",
    "data.head()\n"
   ]
  },
  {
   "cell_type": "markdown",
   "id": "c32f86bb",
   "metadata": {},
   "source": [
    "Split the dataset into train and test data"
   ]
  },
  {
   "cell_type": "code",
   "execution_count": 171,
   "id": "e48912d4",
   "metadata": {},
   "outputs": [],
   "source": [
    "train_split = int(0.8 * len(data))\n",
    "train = data.copy()[:train_split]\n",
    "test = data.copy()[train_split:]\n",
    "true_labels = test.HeartDisease\n",
    "\n",
    "test.drop('HeartDisease', axis=1, inplace=True)\n"
   ]
  },
  {
   "cell_type": "markdown",
   "id": "d14df634",
   "metadata": {},
   "source": [
    "Train data"
   ]
  },
  {
   "cell_type": "code",
   "execution_count": 172,
   "id": "598b5797",
   "metadata": {},
   "outputs": [
    {
     "data": {
      "text/html": [
       "<div>\n",
       "<style scoped>\n",
       "    .dataframe tbody tr th:only-of-type {\n",
       "        vertical-align: middle;\n",
       "    }\n",
       "\n",
       "    .dataframe tbody tr th {\n",
       "        vertical-align: top;\n",
       "    }\n",
       "\n",
       "    .dataframe thead th {\n",
       "        text-align: right;\n",
       "    }\n",
       "</style>\n",
       "<table border=\"1\" class=\"dataframe\">\n",
       "  <thead>\n",
       "    <tr style=\"text-align: right;\">\n",
       "      <th></th>\n",
       "      <th>Age</th>\n",
       "      <th>Sex</th>\n",
       "      <th>ChestPainType</th>\n",
       "      <th>RestingBP</th>\n",
       "      <th>Cholesterol</th>\n",
       "      <th>FastingBS</th>\n",
       "      <th>RestingECG</th>\n",
       "      <th>MaxHR</th>\n",
       "      <th>ExerciseAngina</th>\n",
       "      <th>Oldpeak</th>\n",
       "      <th>ST_Slope</th>\n",
       "      <th>HeartDisease</th>\n",
       "    </tr>\n",
       "  </thead>\n",
       "  <tbody>\n",
       "    <tr>\n",
       "      <th>0</th>\n",
       "      <td>1</td>\n",
       "      <td>M</td>\n",
       "      <td>ATA</td>\n",
       "      <td>2</td>\n",
       "      <td>3</td>\n",
       "      <td>0</td>\n",
       "      <td>Normal</td>\n",
       "      <td>3</td>\n",
       "      <td>N</td>\n",
       "      <td>1.0</td>\n",
       "      <td>Up</td>\n",
       "      <td>0</td>\n",
       "    </tr>\n",
       "    <tr>\n",
       "      <th>1</th>\n",
       "      <td>2</td>\n",
       "      <td>F</td>\n",
       "      <td>NAP</td>\n",
       "      <td>2</td>\n",
       "      <td>2</td>\n",
       "      <td>0</td>\n",
       "      <td>Normal</td>\n",
       "      <td>2</td>\n",
       "      <td>N</td>\n",
       "      <td>2.0</td>\n",
       "      <td>Flat</td>\n",
       "      <td>1</td>\n",
       "    </tr>\n",
       "    <tr>\n",
       "      <th>2</th>\n",
       "      <td>1</td>\n",
       "      <td>M</td>\n",
       "      <td>ATA</td>\n",
       "      <td>2</td>\n",
       "      <td>3</td>\n",
       "      <td>0</td>\n",
       "      <td>ST</td>\n",
       "      <td>1</td>\n",
       "      <td>N</td>\n",
       "      <td>1.0</td>\n",
       "      <td>Up</td>\n",
       "      <td>0</td>\n",
       "    </tr>\n",
       "    <tr>\n",
       "      <th>3</th>\n",
       "      <td>2</td>\n",
       "      <td>F</td>\n",
       "      <td>ASY</td>\n",
       "      <td>2</td>\n",
       "      <td>3</td>\n",
       "      <td>0</td>\n",
       "      <td>Normal</td>\n",
       "      <td>1</td>\n",
       "      <td>Y</td>\n",
       "      <td>2.0</td>\n",
       "      <td>Flat</td>\n",
       "      <td>1</td>\n",
       "    </tr>\n",
       "    <tr>\n",
       "      <th>4</th>\n",
       "      <td>2</td>\n",
       "      <td>M</td>\n",
       "      <td>NAP</td>\n",
       "      <td>2</td>\n",
       "      <td>2</td>\n",
       "      <td>0</td>\n",
       "      <td>Normal</td>\n",
       "      <td>2</td>\n",
       "      <td>N</td>\n",
       "      <td>1.0</td>\n",
       "      <td>Up</td>\n",
       "      <td>0</td>\n",
       "    </tr>\n",
       "  </tbody>\n",
       "</table>\n",
       "</div>"
      ],
      "text/plain": [
       "   Age Sex ChestPainType  RestingBP  Cholesterol  FastingBS RestingECG  MaxHR  \\\n",
       "0    1   M           ATA          2            3          0     Normal      3   \n",
       "1    2   F           NAP          2            2          0     Normal      2   \n",
       "2    1   M           ATA          2            3          0         ST      1   \n",
       "3    2   F           ASY          2            3          0     Normal      1   \n",
       "4    2   M           NAP          2            2          0     Normal      2   \n",
       "\n",
       "  ExerciseAngina  Oldpeak ST_Slope  HeartDisease  \n",
       "0              N      1.0       Up             0  \n",
       "1              N      2.0     Flat             1  \n",
       "2              N      1.0       Up             0  \n",
       "3              Y      2.0     Flat             1  \n",
       "4              N      1.0       Up             0  "
      ]
     },
     "execution_count": 172,
     "metadata": {},
     "output_type": "execute_result"
    }
   ],
   "source": [
    "train.head()"
   ]
  },
  {
   "cell_type": "markdown",
   "id": "c9c24133",
   "metadata": {},
   "source": [
    "Test data"
   ]
  },
  {
   "cell_type": "code",
   "execution_count": 285,
   "id": "500f721f",
   "metadata": {},
   "outputs": [
    {
     "data": {
      "text/html": [
       "<div>\n",
       "<style scoped>\n",
       "    .dataframe tbody tr th:only-of-type {\n",
       "        vertical-align: middle;\n",
       "    }\n",
       "\n",
       "    .dataframe tbody tr th {\n",
       "        vertical-align: top;\n",
       "    }\n",
       "\n",
       "    .dataframe thead th {\n",
       "        text-align: right;\n",
       "    }\n",
       "</style>\n",
       "<table border=\"1\" class=\"dataframe\">\n",
       "  <thead>\n",
       "    <tr style=\"text-align: right;\">\n",
       "      <th></th>\n",
       "      <th>Age</th>\n",
       "      <th>Sex</th>\n",
       "      <th>ChestPainType</th>\n",
       "      <th>RestingBP</th>\n",
       "      <th>Cholesterol</th>\n",
       "      <th>FastingBS</th>\n",
       "      <th>RestingECG</th>\n",
       "      <th>MaxHR</th>\n",
       "      <th>ExerciseAngina</th>\n",
       "      <th>Oldpeak</th>\n",
       "      <th>ST_Slope</th>\n",
       "    </tr>\n",
       "  </thead>\n",
       "  <tbody>\n",
       "    <tr>\n",
       "      <th>734</th>\n",
       "      <td>2</td>\n",
       "      <td>M</td>\n",
       "      <td>ASY</td>\n",
       "      <td>2</td>\n",
       "      <td>3</td>\n",
       "      <td>1</td>\n",
       "      <td>LVH</td>\n",
       "      <td>1</td>\n",
       "      <td>Y</td>\n",
       "      <td>2.0</td>\n",
       "      <td>Down</td>\n",
       "    </tr>\n",
       "    <tr>\n",
       "      <th>735</th>\n",
       "      <td>2</td>\n",
       "      <td>M</td>\n",
       "      <td>NAP</td>\n",
       "      <td>2</td>\n",
       "      <td>2</td>\n",
       "      <td>0</td>\n",
       "      <td>Normal</td>\n",
       "      <td>2</td>\n",
       "      <td>N</td>\n",
       "      <td>2.0</td>\n",
       "      <td>Flat</td>\n",
       "    </tr>\n",
       "    <tr>\n",
       "      <th>736</th>\n",
       "      <td>2</td>\n",
       "      <td>M</td>\n",
       "      <td>ASY</td>\n",
       "      <td>2</td>\n",
       "      <td>3</td>\n",
       "      <td>0</td>\n",
       "      <td>LVH</td>\n",
       "      <td>1</td>\n",
       "      <td>Y</td>\n",
       "      <td>3.0</td>\n",
       "      <td>Flat</td>\n",
       "    </tr>\n",
       "    <tr>\n",
       "      <th>737</th>\n",
       "      <td>2</td>\n",
       "      <td>M</td>\n",
       "      <td>ASY</td>\n",
       "      <td>2</td>\n",
       "      <td>3</td>\n",
       "      <td>0</td>\n",
       "      <td>Normal</td>\n",
       "      <td>1</td>\n",
       "      <td>Y</td>\n",
       "      <td>2.0</td>\n",
       "      <td>Flat</td>\n",
       "    </tr>\n",
       "    <tr>\n",
       "      <th>738</th>\n",
       "      <td>3</td>\n",
       "      <td>F</td>\n",
       "      <td>NAP</td>\n",
       "      <td>2</td>\n",
       "      <td>4</td>\n",
       "      <td>0</td>\n",
       "      <td>LVH</td>\n",
       "      <td>2</td>\n",
       "      <td>N</td>\n",
       "      <td>2.0</td>\n",
       "      <td>Up</td>\n",
       "    </tr>\n",
       "  </tbody>\n",
       "</table>\n",
       "</div>"
      ],
      "text/plain": [
       "     Age Sex ChestPainType  RestingBP  Cholesterol  FastingBS RestingECG  \\\n",
       "734    2   M           ASY          2            3          1        LVH   \n",
       "735    2   M           NAP          2            2          0     Normal   \n",
       "736    2   M           ASY          2            3          0        LVH   \n",
       "737    2   M           ASY          2            3          0     Normal   \n",
       "738    3   F           NAP          2            4          0        LVH   \n",
       "\n",
       "     MaxHR ExerciseAngina  Oldpeak ST_Slope  \n",
       "734      1              Y      2.0     Down  \n",
       "735      2              N      2.0     Flat  \n",
       "736      1              Y      3.0     Flat  \n",
       "737      1              Y      2.0     Flat  \n",
       "738      2              N      2.0       Up  "
      ]
     },
     "execution_count": 285,
     "metadata": {},
     "output_type": "execute_result"
    }
   ],
   "source": [
    "test.head()"
   ]
  },
  {
   "cell_type": "markdown",
   "id": "65c6b188",
   "metadata": {},
   "source": [
    "## Parameter Learning\n",
    "We use the BN model proposed in \\cite{} and learn the parameters for the network using the given dataset."
   ]
  },
  {
   "cell_type": "code",
   "execution_count": null,
   "id": "3e4d6806",
   "metadata": {},
   "outputs": [],
   "source": []
  },
  {
   "cell_type": "code",
   "execution_count": null,
   "id": "99d40713",
   "metadata": {},
   "outputs": [],
   "source": []
  },
  {
   "cell_type": "code",
   "execution_count": null,
   "id": "c58fcc8a",
   "metadata": {},
   "outputs": [],
   "source": []
  },
  {
   "cell_type": "code",
   "execution_count": null,
   "id": "8ec4aa8a",
   "metadata": {},
   "outputs": [],
   "source": []
  },
  {
   "cell_type": "code",
   "execution_count": null,
   "id": "5af1f317",
   "metadata": {},
   "outputs": [],
   "source": []
  },
  {
   "cell_type": "markdown",
   "id": "da8af8a2",
   "metadata": {},
   "source": [
    "## Learning BN from data\n",
    "We learn the structure of a BN from the given dataset. For this, we perform score-based structure learning. The score-based approach first defines a criterion to evaluate how well the Bayesian network fits the data, then searches over the space of DAGs for a structure achieving the maximal score. Here, we use the Bayesian Dirichlet scores as the criterion and use hill climb or gradient ascent method to search the space for optimal score."
   ]
  },
  {
   "cell_type": "markdown",
   "id": "1880827c",
   "metadata": {},
   "source": [
    "### Hill Climb Search"
   ]
  },
  {
   "cell_type": "code",
   "execution_count": 174,
   "id": "beb383c6",
   "metadata": {},
   "outputs": [],
   "source": [
    "%%capture output\n",
    "scoring = BDeuScore(train)\n",
    "hc = HillClimbSearch(train)\n",
    "best_model = hc.estimate(scoring_method=scoring, max_indegree=4, max_iter=int(1e4))\n"
   ]
  },
  {
   "cell_type": "markdown",
   "id": "11657afa",
   "metadata": {},
   "source": [
    "#### Visualize the learned BN"
   ]
  },
  {
   "cell_type": "code",
   "execution_count": 175,
   "id": "3e216174",
   "metadata": {},
   "outputs": [
    {
     "data": {
      "text/plain": [
       "'Digraph.gv.pdf'"
      ]
     },
     "execution_count": 175,
     "metadata": {},
     "output_type": "execute_result"
    }
   ],
   "source": [
    "bn_hc = graphviz.Digraph(comment='BN learned from data using Hill Climb Search')\n",
    "\n",
    "for node in best_model.nodes():\n",
    "    bn_hc.node(node)\n",
    "    \n",
    "for edge in best_model.edges():\n",
    "    bn_hc.edge(edge[0], edge[1])\n",
    "    \n",
    "bn_hc.render(view=True)"
   ]
  },
  {
   "cell_type": "markdown",
   "id": "7d576057",
   "metadata": {},
   "source": [
    "#### Parameter Learning\n",
    "Once we have learned the structure of the BN from the dataset, we need to learn the values of the conditional probability distributions of each attribute (or node). This is known as parameter learning. Here, we use the Bayesian Parameter Estimator which starts with already existing prior CPDs, that express our beliefs about the variables before the data was observed. Those “priors” are then updated, using the state counts from the observed data. We use Bayesian Dirichlet equivalent uniform prior for our case."
   ]
  },
  {
   "cell_type": "code",
   "execution_count": 287,
   "id": "f546d159",
   "metadata": {},
   "outputs": [
    {
     "data": {
      "text/plain": [
       "[<TabularCPD representing P(Age:3 | MaxHR:3, Oldpeak:4) at 0x2a7094940>,\n",
       " <TabularCPD representing P(RestingECG:3 | Age:3, ExerciseAngina:2) at 0x2a70c3070>,\n",
       " <TabularCPD representing P(RestingBP:2 | Age:3) at 0x2a709af70>,\n",
       " <TabularCPD representing P(Cholesterol:7 | HeartDisease:2) at 0x2a7060b20>,\n",
       " <TabularCPD representing P(FastingBS:2 | Cholesterol:7, HeartDisease:2) at 0x2a72bff70>,\n",
       " <TabularCPD representing P(MaxHR:3 | ExerciseAngina:2, HeartDisease:2) at 0x2a709ae80>,\n",
       " <TabularCPD representing P(ExerciseAngina:2 | HeartDisease:2, Oldpeak:4, ST_Slope:3) at 0x2a72b9b20>,\n",
       " <TabularCPD representing P(ChestPainType:4 | ExerciseAngina:2, HeartDisease:2) at 0x2a72ca190>,\n",
       " <TabularCPD representing P(Oldpeak:4 | HeartDisease:2, ST_Slope:3) at 0x2a72b7c10>,\n",
       " <TabularCPD representing P(ST_Slope:3) at 0x2a72cacd0>,\n",
       " <TabularCPD representing P(HeartDisease:2 | ST_Slope:3) at 0x2a7060f70>,\n",
       " <TabularCPD representing P(Sex:2 | HeartDisease:2) at 0x2a72b7cd0>]"
      ]
     },
     "execution_count": 287,
     "metadata": {},
     "output_type": "execute_result"
    }
   ],
   "source": [
    "model_BN = BayesianNetwork(best_model.edges())\n",
    "\n",
    "estimator = BayesianEstimator(model_BN, train)\n",
    "estimator.get_parameters(prior_type='BDeu')"
   ]
  },
  {
   "cell_type": "code",
   "execution_count": 288,
   "id": "18eaa0b4",
   "metadata": {},
   "outputs": [],
   "source": [
    "model_BN.fit(train, estimator=BayesianEstimator)"
   ]
  },
  {
   "cell_type": "code",
   "execution_count": 289,
   "id": "4d7efa80",
   "metadata": {},
   "outputs": [
    {
     "data": {
      "text/plain": [
       "True"
      ]
     },
     "execution_count": 289,
     "metadata": {},
     "output_type": "execute_result"
    }
   ],
   "source": [
    "model_BN.check_model()"
   ]
  },
  {
   "cell_type": "markdown",
   "id": "505ebd0e",
   "metadata": {},
   "source": [
    "#### Validate the learned BN on the test data\n",
    "After learning the BN and the associated conditional probability distributions, we validate this BN on the test dataset. We find the accuracy of the learned model which is the ration of total samples for which the HeartDisease was correctly classified."
   ]
  },
  {
   "cell_type": "code",
   "execution_count": 291,
   "id": "5cece252",
   "metadata": {},
   "outputs": [
    {
     "data": {
      "application/vnd.jupyter.widget-view+json": {
       "model_id": "f40e424fa4a2462a8f8a8b87f697f813",
       "version_major": 2,
       "version_minor": 0
      },
      "text/plain": [
       "  0%|          | 0/167 [00:00<?, ?it/s]"
      ]
     },
     "metadata": {},
     "output_type": "display_data"
    }
   ],
   "source": [
    "predicted_labels = model_BN.predict(test, stochastic=True)"
   ]
  },
  {
   "cell_type": "code",
   "execution_count": 180,
   "id": "99c46677",
   "metadata": {},
   "outputs": [
    {
     "name": "stdout",
     "output_type": "stream",
     "text": [
      "Accuracy =  0.7445652173913043\n"
     ]
    }
   ],
   "source": [
    "pred_y = np.asarray(predicted_labels)\n",
    ".squeeze()\n",
    "true_y = np.asarray(true_labels).squeeze()\n",
    "\n",
    "accuracy = 1 - np.sum(abs(true_y - pred_y)) / len(true_y)\n",
    "print('Accuracy = ', accuracy)"
   ]
  },
  {
   "cell_type": "code",
   "execution_count": null,
   "id": "dbd88e66",
   "metadata": {},
   "outputs": [],
   "source": []
  },
  {
   "cell_type": "markdown",
   "id": "0b94a1b5",
   "metadata": {},
   "source": [
    "### Neural Network"
   ]
  },
  {
   "cell_type": "code",
   "execution_count": 249,
   "id": "e430de2a",
   "metadata": {},
   "outputs": [],
   "source": [
    "Age = torch.FloatTensor(raw_data.Age.values).unsqueeze(1)\n",
    "Sex = torch.FloatTensor(pd.get_dummies(raw_data.Sex).values)\n",
    "ChestPainType = torch.FloatTensor(pd.get_dummies(raw_data.ChestPainType).values)\n",
    "RestingBP = torch.FloatTensor(raw_data.RestingBP.values).unsqueeze(1)\n",
    "Cholesterol = torch.FloatTensor(raw_data.Cholesterol.values).unsqueeze(1)\n",
    "FastingBS = torch.FloatTensor(raw_data.FastingBS.values).unsqueeze(1)\n",
    "RestingECG = torch.FloatTensor(pd.get_dummies(raw_data.RestingECG).values)\n",
    "MaxHR = torch.FloatTensor(raw_data.MaxHR.values).unsqueeze(1)\n",
    "ExerciseAngina = torch.FloatTensor(pd.get_dummies(raw_data.ExerciseAngina).values)\n",
    "Oldpeak = torch.FloatTensor(raw_data.Oldpeak.values).unsqueeze(1)\n",
    "ST_slope = torch.FloatTensor(pd.get_dummies(raw_data.ST_Slope).values)\n",
    "HeartDisease = torch.FloatTensor(raw_data.HeartDisease.values)\n",
    "\n",
    "data_tensor = torch.cat((Age, Sex, ChestPainType, RestingBP, Cholesterol, \n",
    "                         FastingBS, RestingECG, MaxHR, ExerciseAngina, Oldpeak, ST_slope), axis=1)\n",
    "label_tensor = HeartDisease\n",
    "sc = StandardScaler()\n",
    "data_tensor = torch.FloatTensor(sc.fit_transform(data_tensor))\n",
    "\n",
    "\n",
    "train_tensor = data_tensor[:train_split, :]\n",
    "train_label_tensor = label_tensor[:train_split]\n",
    "\n",
    "test_tensor = data_tensor[train_split:, :]\n",
    "test_label_tensor = label_tensor[train_split:]\n"
   ]
  },
  {
   "cell_type": "code",
   "execution_count": 258,
   "id": "c864b393",
   "metadata": {},
   "outputs": [],
   "source": [
    "def weights_init_(m):\n",
    "    if isinstance(m, nn.Linear):\n",
    "        torch.nn.init.xavier_uniform_(m.weight, gain=1)\n",
    "        torch.nn.init.constant_(m.bias, 0)\n",
    "        \n",
    "class model(nn.Module):\n",
    "    \n",
    "    def __init__(self):\n",
    "        super(model, self).__init__()\n",
    "        self.linear1 = nn.Linear(20, 64)\n",
    "        self.linear2 = nn.Linear(64, 32)\n",
    "        self.linear3 = nn.Linear(32, 1)\n",
    "        \n",
    "        self.criterion = nn.BCELoss()\n",
    "        \n",
    "        self.apply(weights_init_)        \n",
    "    \n",
    "    def forward(self, x):\n",
    "        y_hat = torch.relu(self.linear1(x))\n",
    "        y_hat = torch.relu(self.linear2(y_hat))\n",
    "        return torch.sigmoid(self.linear3(y_hat)).squeeze()\n",
    "        \n",
    "    def train(self, x, y):\n",
    "        y_hat = self.forward(x)\n",
    "        loss = self.criterion(y_hat, y)\n",
    "        return loss\n",
    "    \n",
    "    "
   ]
  },
  {
   "cell_type": "code",
   "execution_count": 274,
   "id": "f93acf34",
   "metadata": {},
   "outputs": [
    {
     "name": "stderr",
     "output_type": "stream",
     "text": [
      "100%|█████████████████████████████████| 100000/100000 [00:32<00:00, 3073.94it/s]\n"
     ]
    },
    {
     "data": {
      "image/png": "[encoded data removed]",
      "text/plain": [
       "<Figure size 640x480 with 1 Axes>"
      ]
     },
     "metadata": {},
     "output_type": "display_data"
    }
   ],
   "source": [
    "model_NN = model()\n",
    "optimizer = torch.optim.Adam(model_NN.parameters(), lr=1e-4)\n",
    "EPOCH = 100000\n",
    "batch_size = 50\n",
    "LOSS = []\n",
    "\n",
    "for epoch in tqdm(range(EPOCH)):\n",
    "    rand_idx = np.random.randint(0, len(train_tensor), size=batch_size)\n",
    "    x = train_tensor[rand_idx, :]\n",
    "    y = train_label_tensor[rand_idx]\n",
    "    \n",
    "    loss = model_NN.train(x, y)\n",
    "    \n",
    "    optimizer.zero_grad()\n",
    "    loss.backward()\n",
    "    optimizer.step()\n",
    "    \n",
    "    LOSS.append(loss.item())\n",
    "    \n",
    "plt.plot(range(1, EPOCH+1), LOSS)\n",
    "plt.show()\n"
   ]
  },
  {
   "cell_type": "markdown",
   "id": "d72703db",
   "metadata": {},
   "source": [
    "prediction"
   ]
  },
  {
   "cell_type": "code",
   "execution_count": 273,
   "id": "6c30f8a9",
   "metadata": {},
   "outputs": [
    {
     "data": {
      "text/plain": [
       "0.27293937102608057"
      ]
     },
     "execution_count": 273,
     "metadata": {},
     "output_type": "execute_result"
    }
   ],
   "source": [
    "pred_y = model_NN.forward(test_tensor).squeeze().detach().numpy()\n",
    "true_y = np.asarray(test_label_tensor)\n",
    "\n",
    "accuracy = np.sum(abs(pred_y - true_y)) / len(true_y)\n",
    "accuracy"
   ]
  },
  {
   "cell_type": "code",
   "execution_count": null,
   "id": "edd013af",
   "metadata": {},
   "outputs": [],
   "source": []
  },
  {
   "cell_type": "code",
   "execution_count": null,
   "id": "ed2a9908",
   "metadata": {},
   "outputs": [],
   "source": []
  },
  {
   "cell_type": "code",
   "execution_count": null,
   "id": "4919ac8a",
   "metadata": {},
   "outputs": [],
   "source": []
  },
  {
   "cell_type": "code",
   "execution_count": null,
   "id": "89f71bb8",
   "metadata": {},
   "outputs": [],
   "source": []
  }
 ],
 "metadata": {
  "kernelspec": {
   "display_name": "Python 3 (ipykernel)",
   "language": "python",
   "name": "python3"
  },
  "language_info": {
   "codemirror_mode": {
    "name": "ipython",
    "version": 3
   },
   "file_extension": ".py",
   "mimetype": "text/x-python",
   "name": "python",
   "nbconvert_exporter": "python",
   "pygments_lexer": "ipython3",
   "version": "3.9.13"
  }
 },
 "nbformat": 4,
 "nbformat_minor": 5
}
