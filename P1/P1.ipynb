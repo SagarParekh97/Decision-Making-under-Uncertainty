{
 "cells": [
  {
   "cell_type": "code",
   "execution_count": null,
   "id": "5de1f625",
   "metadata": {},
   "outputs": [],
   "source": []
  },
  {
   "cell_type": "markdown",
   "id": "7c6c448d",
   "metadata": {},
   "source": [
    "# Decision Making under Uncertainty - P1\n",
    "\n",
    "Group members\n",
    "- Mohammad Beigi\n",
    "- Sagar Parekh"
   ]
  },
  {
   "cell_type": "markdown",
   "id": "16b54193",
   "metadata": {},
   "source": [
    "### Goal\n",
    "\n",
    "explain the goal in a small paragraph"
   ]
  },
  {
   "cell_type": "markdown",
   "id": "35f8bbe7",
   "metadata": {},
   "source": [
    "## Import Necessary Packages and Load the Dataset"
   ]
  },
  {
   "cell_type": "code",
   "execution_count": 1,
   "id": "ad10446f",
   "metadata": {},
   "outputs": [],
   "source": [
    "import pandas as pd\n",
    "import numpy as np\n",
    "import matplotlib.pyplot as plt\n",
    "from pgmpy.estimators import BDeuScore, BicScore\n",
    "from pgmpy.estimators import HillClimbSearch, ExpectationMaximization, MaximumLikelihoodEstimator, BayesianEstimator\n",
    "from pgmpy.models import BayesianNetwork\n",
    "from sklearn.model_selection import train_test_split\n",
    "import graphviz\n",
    "# from pygobnilp.gobnilp import Gobnilp\n"
   ]
  },
  {
   "cell_type": "code",
   "execution_count": 2,
   "id": "3abe8035",
   "metadata": {},
   "outputs": [
    {
     "data": {
      "text/html": [
       "<div>\n",
       "<style scoped>\n",
       "    .dataframe tbody tr th:only-of-type {\n",
       "        vertical-align: middle;\n",
       "    }\n",
       "\n",
       "    .dataframe tbody tr th {\n",
       "        vertical-align: top;\n",
       "    }\n",
       "\n",
       "    .dataframe thead th {\n",
       "        text-align: right;\n",
       "    }\n",
       "</style>\n",
       "<table border=\"1\" class=\"dataframe\">\n",
       "  <thead>\n",
       "    <tr style=\"text-align: right;\">\n",
       "      <th></th>\n",
       "      <th>Age</th>\n",
       "      <th>Sex</th>\n",
       "      <th>ChestPainType</th>\n",
       "      <th>RestingBP</th>\n",
       "      <th>Cholesterol</th>\n",
       "      <th>FastingBS</th>\n",
       "      <th>RestingECG</th>\n",
       "      <th>MaxHR</th>\n",
       "      <th>ExerciseAngina</th>\n",
       "      <th>Oldpeak</th>\n",
       "      <th>ST_Slope</th>\n",
       "      <th>HeartDisease</th>\n",
       "    </tr>\n",
       "  </thead>\n",
       "  <tbody>\n",
       "    <tr>\n",
       "      <th>0</th>\n",
       "      <td>40</td>\n",
       "      <td>M</td>\n",
       "      <td>ATA</td>\n",
       "      <td>140</td>\n",
       "      <td>289</td>\n",
       "      <td>0</td>\n",
       "      <td>Normal</td>\n",
       "      <td>172</td>\n",
       "      <td>N</td>\n",
       "      <td>0.0</td>\n",
       "      <td>Up</td>\n",
       "      <td>0</td>\n",
       "    </tr>\n",
       "    <tr>\n",
       "      <th>1</th>\n",
       "      <td>49</td>\n",
       "      <td>F</td>\n",
       "      <td>NAP</td>\n",
       "      <td>160</td>\n",
       "      <td>180</td>\n",
       "      <td>0</td>\n",
       "      <td>Normal</td>\n",
       "      <td>156</td>\n",
       "      <td>N</td>\n",
       "      <td>1.0</td>\n",
       "      <td>Flat</td>\n",
       "      <td>1</td>\n",
       "    </tr>\n",
       "    <tr>\n",
       "      <th>2</th>\n",
       "      <td>37</td>\n",
       "      <td>M</td>\n",
       "      <td>ATA</td>\n",
       "      <td>130</td>\n",
       "      <td>283</td>\n",
       "      <td>0</td>\n",
       "      <td>ST</td>\n",
       "      <td>98</td>\n",
       "      <td>N</td>\n",
       "      <td>0.0</td>\n",
       "      <td>Up</td>\n",
       "      <td>0</td>\n",
       "    </tr>\n",
       "    <tr>\n",
       "      <th>3</th>\n",
       "      <td>48</td>\n",
       "      <td>F</td>\n",
       "      <td>ASY</td>\n",
       "      <td>138</td>\n",
       "      <td>214</td>\n",
       "      <td>0</td>\n",
       "      <td>Normal</td>\n",
       "      <td>108</td>\n",
       "      <td>Y</td>\n",
       "      <td>1.5</td>\n",
       "      <td>Flat</td>\n",
       "      <td>1</td>\n",
       "    </tr>\n",
       "    <tr>\n",
       "      <th>4</th>\n",
       "      <td>54</td>\n",
       "      <td>M</td>\n",
       "      <td>NAP</td>\n",
       "      <td>150</td>\n",
       "      <td>195</td>\n",
       "      <td>0</td>\n",
       "      <td>Normal</td>\n",
       "      <td>122</td>\n",
       "      <td>N</td>\n",
       "      <td>0.0</td>\n",
       "      <td>Up</td>\n",
       "      <td>0</td>\n",
       "    </tr>\n",
       "  </tbody>\n",
       "</table>\n",
       "</div>"
      ],
      "text/plain": [
       "   Age Sex ChestPainType  RestingBP  Cholesterol  FastingBS RestingECG  MaxHR  \\\n",
       "0   40   M           ATA        140          289          0     Normal    172   \n",
       "1   49   F           NAP        160          180          0     Normal    156   \n",
       "2   37   M           ATA        130          283          0         ST     98   \n",
       "3   48   F           ASY        138          214          0     Normal    108   \n",
       "4   54   M           NAP        150          195          0     Normal    122   \n",
       "\n",
       "  ExerciseAngina  Oldpeak ST_Slope  HeartDisease  \n",
       "0              N      0.0       Up             0  \n",
       "1              N      1.0     Flat             1  \n",
       "2              N      0.0       Up             0  \n",
       "3              Y      1.5     Flat             1  \n",
       "4              N      0.0       Up             0  "
      ]
     },
     "execution_count": 2,
     "metadata": {},
     "output_type": "execute_result"
    }
   ],
   "source": [
    "raw_data = pd.read_csv('heart.csv')\n",
    "raw_data.head()\n"
   ]
  },
  {
   "cell_type": "markdown",
   "id": "36a37035",
   "metadata": {},
   "source": [
    "## Analyzing the Data"
   ]
  },
  {
   "cell_type": "code",
   "execution_count": null,
   "id": "ec2a0534",
   "metadata": {},
   "outputs": [],
   "source": []
  },
  {
   "cell_type": "code",
   "execution_count": null,
   "id": "f6bd8acd",
   "metadata": {},
   "outputs": [],
   "source": []
  },
  {
   "cell_type": "code",
   "execution_count": null,
   "id": "f281b2ce",
   "metadata": {},
   "outputs": [],
   "source": []
  },
  {
   "cell_type": "code",
   "execution_count": null,
   "id": "bdbcdcbb",
   "metadata": {},
   "outputs": [],
   "source": []
  },
  {
   "cell_type": "code",
   "execution_count": null,
   "id": "f3110b86",
   "metadata": {},
   "outputs": [],
   "source": []
  },
  {
   "cell_type": "code",
   "execution_count": null,
   "id": "1d390cce",
   "metadata": {},
   "outputs": [],
   "source": []
  },
  {
   "cell_type": "markdown",
   "id": "842fc20b",
   "metadata": {},
   "source": [
    "## Processing the Data"
   ]
  },
  {
   "cell_type": "markdown",
   "id": "afadf763",
   "metadata": {},
   "source": [
    "Discretize continuous data (the last values in the range are inclusive, the first values are not)\n",
    "\n",
    "    + Age varies between 28 and 77. We divide it into 3 fixed tiers:\n",
    "    \n",
    "    tier A - 27 to 43,\n",
    "    tier B - 43 to 59,\n",
    "    tier C - 59 to 77\n",
    "    \n",
    "    + We discretize RestingBP into 2 tiers:\n",
    "    \n",
    "    tier A - -1 to 100,\n",
    "    tier B - 100 to 200\n",
    "    \n",
    "    + Cholesterol varies between 0 and 603. We divide it into 6 fixed tiers:\n",
    "    \n",
    "    tier A - -1 to 100,\n",
    "    tier B - 100 to 200,\n",
    "    tier C - 200 to 300,\n",
    "    tier D - 300 to 400,\n",
    "    tier E - 400 to 500,\n",
    "    tier F - 500 to 603\n",
    "    \n",
    "    + MaxHR varies between 60 and 202. We divide it into 3 fixed tiers: \n",
    "    \n",
    "    tier A - 59 to 120,\n",
    "    tier B - 120 to 170,\n",
    "    tier C - 170 to 202\n",
    "    \n",
    "    + Oldpeak varies between -2.6 and 6.2. We discretize it as the following tiers:\n",
    "    \n",
    "    tier A - -2.7 to 0,\n",
    "    tier B - 0 to 2.1,\n",
    "    tier C - 2.1 to 4.2,\n",
    "    tier D - 4.2 to 6.2\n"
   ]
  },
  {
   "cell_type": "code",
   "execution_count": 3,
   "id": "674b3562",
   "metadata": {},
   "outputs": [
    {
     "name": "stderr",
     "output_type": "stream",
     "text": [
      "/var/folders/rt/h8xpnxw95bjb7rwf64vhz8_w0000gn/T/ipykernel_89103/2544075606.py:28: SettingWithCopyWarning: \n",
      "A value is trying to be set on a copy of a slice from a DataFrame\n",
      "\n",
      "See the caveats in the documentation: https://pandas.pydata.org/pandas-docs/stable/user_guide/indexing.html#returning-a-view-versus-a-copy\n",
      "  series[idx] = tiers[i]\n"
     ]
    },
    {
     "data": {
      "text/html": [
       "<div>\n",
       "<style scoped>\n",
       "    .dataframe tbody tr th:only-of-type {\n",
       "        vertical-align: middle;\n",
       "    }\n",
       "\n",
       "    .dataframe tbody tr th {\n",
       "        vertical-align: top;\n",
       "    }\n",
       "\n",
       "    .dataframe thead th {\n",
       "        text-align: right;\n",
       "    }\n",
       "</style>\n",
       "<table border=\"1\" class=\"dataframe\">\n",
       "  <thead>\n",
       "    <tr style=\"text-align: right;\">\n",
       "      <th></th>\n",
       "      <th>Age</th>\n",
       "      <th>Sex</th>\n",
       "      <th>ChestPainType</th>\n",
       "      <th>RestingBP</th>\n",
       "      <th>Cholesterol</th>\n",
       "      <th>FastingBS</th>\n",
       "      <th>RestingECG</th>\n",
       "      <th>MaxHR</th>\n",
       "      <th>ExerciseAngina</th>\n",
       "      <th>Oldpeak</th>\n",
       "      <th>ST_Slope</th>\n",
       "      <th>HeartDisease</th>\n",
       "    </tr>\n",
       "  </thead>\n",
       "  <tbody>\n",
       "    <tr>\n",
       "      <th>0</th>\n",
       "      <td>A</td>\n",
       "      <td>M</td>\n",
       "      <td>ATA</td>\n",
       "      <td>B</td>\n",
       "      <td>C</td>\n",
       "      <td>0</td>\n",
       "      <td>Normal</td>\n",
       "      <td>C</td>\n",
       "      <td>N</td>\n",
       "      <td>A</td>\n",
       "      <td>Up</td>\n",
       "      <td>0</td>\n",
       "    </tr>\n",
       "    <tr>\n",
       "      <th>1</th>\n",
       "      <td>B</td>\n",
       "      <td>F</td>\n",
       "      <td>NAP</td>\n",
       "      <td>B</td>\n",
       "      <td>B</td>\n",
       "      <td>0</td>\n",
       "      <td>Normal</td>\n",
       "      <td>B</td>\n",
       "      <td>N</td>\n",
       "      <td>B</td>\n",
       "      <td>Flat</td>\n",
       "      <td>1</td>\n",
       "    </tr>\n",
       "    <tr>\n",
       "      <th>2</th>\n",
       "      <td>A</td>\n",
       "      <td>M</td>\n",
       "      <td>ATA</td>\n",
       "      <td>B</td>\n",
       "      <td>C</td>\n",
       "      <td>0</td>\n",
       "      <td>ST</td>\n",
       "      <td>A</td>\n",
       "      <td>N</td>\n",
       "      <td>A</td>\n",
       "      <td>Up</td>\n",
       "      <td>0</td>\n",
       "    </tr>\n",
       "    <tr>\n",
       "      <th>3</th>\n",
       "      <td>B</td>\n",
       "      <td>F</td>\n",
       "      <td>ASY</td>\n",
       "      <td>B</td>\n",
       "      <td>C</td>\n",
       "      <td>0</td>\n",
       "      <td>Normal</td>\n",
       "      <td>A</td>\n",
       "      <td>Y</td>\n",
       "      <td>B</td>\n",
       "      <td>Flat</td>\n",
       "      <td>1</td>\n",
       "    </tr>\n",
       "    <tr>\n",
       "      <th>4</th>\n",
       "      <td>B</td>\n",
       "      <td>M</td>\n",
       "      <td>NAP</td>\n",
       "      <td>B</td>\n",
       "      <td>B</td>\n",
       "      <td>0</td>\n",
       "      <td>Normal</td>\n",
       "      <td>B</td>\n",
       "      <td>N</td>\n",
       "      <td>A</td>\n",
       "      <td>Up</td>\n",
       "      <td>0</td>\n",
       "    </tr>\n",
       "  </tbody>\n",
       "</table>\n",
       "</div>"
      ],
      "text/plain": [
       "  Age Sex ChestPainType RestingBP Cholesterol  FastingBS RestingECG MaxHR  \\\n",
       "0   A   M           ATA         B           C          0     Normal     C   \n",
       "1   B   F           NAP         B           B          0     Normal     B   \n",
       "2   A   M           ATA         B           C          0         ST     A   \n",
       "3   B   F           ASY         B           C          0     Normal     A   \n",
       "4   B   M           NAP         B           B          0     Normal     B   \n",
       "\n",
       "  ExerciseAngina Oldpeak ST_Slope  HeartDisease  \n",
       "0              N       A       Up             0  \n",
       "1              N       B     Flat             1  \n",
       "2              N       A       Up             0  \n",
       "3              Y       B     Flat             1  \n",
       "4              N       A       Up             0  "
      ]
     },
     "execution_count": 3,
     "metadata": {},
     "output_type": "execute_result"
    }
   ],
   "source": [
    "boundaries = {\n",
    "             'Age': np.array([[27, 43],\n",
    "                              [43, 59],\n",
    "                              [59, 77]]),\n",
    "             'RestingBP': np.array([[-1, 100],\n",
    "                                    [100, 200]]),\n",
    "             'Cholesterol': np.array([[-1, 100],\n",
    "                                      [100, 200],\n",
    "                                      [200, 300],\n",
    "                                      [300, 400],\n",
    "                                      [400, 500],\n",
    "                                      [500, 602]]),\n",
    "             'MaxHR': np.array([[59, 120],\n",
    "                                [120, 170],\n",
    "                                [170, 202]]),\n",
    "             'Oldpeak': np.array([[-2.7, 0],\n",
    "                                  [0, 2.1],\n",
    "                                  [2.1, 4.2],\n",
    "                                  [4.2, 6.2]])\n",
    "             }\n",
    "\n",
    "def discretize(series, boundaries):\n",
    "    tiers = ['A', 'B', 'C', 'D', 'E', 'F']\n",
    "    \n",
    "    for idx, elem in enumerate(series):\n",
    "        for i in range(len(boundaries)):\n",
    "            if elem > boundaries[i, 0] and elem <= boundaries[i, 1]:\n",
    "                series[idx] = tiers[i]\n",
    "    \n",
    "    return series\n",
    "    \n",
    "\n",
    "new_columns = {}\n",
    "for i, content in enumerate(raw_data.items()):\n",
    "    (label, series) = content\n",
    "    \n",
    "    if label in ['Age', 'RestingBP', 'Cholesterol', 'MaxHR', 'Oldpeak']:\n",
    "        new_columns[label] = discretize(series, boundaries[label])\n",
    "    else:\n",
    "        new_columns[label] = series\n",
    "\n",
    "data = pd.DataFrame(new_columns)\n",
    "data.head()\n"
   ]
  },
  {
   "cell_type": "markdown",
   "id": "c32f86bb",
   "metadata": {},
   "source": [
    "Split the dataset into train and test data"
   ]
  },
  {
   "cell_type": "code",
   "execution_count": 4,
   "id": "e48912d4",
   "metadata": {},
   "outputs": [],
   "source": [
    "train, test = train_test_split(data, test_size=0.2)\n",
    "true_labels = test.HeartDisease\n",
    "\n",
    "test.drop('HeartDisease', axis=1, inplace=True)\n"
   ]
  },
  {
   "cell_type": "code",
   "execution_count": 5,
   "id": "598b5797",
   "metadata": {},
   "outputs": [
    {
     "data": {
      "text/html": [
       "<div>\n",
       "<style scoped>\n",
       "    .dataframe tbody tr th:only-of-type {\n",
       "        vertical-align: middle;\n",
       "    }\n",
       "\n",
       "    .dataframe tbody tr th {\n",
       "        vertical-align: top;\n",
       "    }\n",
       "\n",
       "    .dataframe thead th {\n",
       "        text-align: right;\n",
       "    }\n",
       "</style>\n",
       "<table border=\"1\" class=\"dataframe\">\n",
       "  <thead>\n",
       "    <tr style=\"text-align: right;\">\n",
       "      <th></th>\n",
       "      <th>Age</th>\n",
       "      <th>Sex</th>\n",
       "      <th>ChestPainType</th>\n",
       "      <th>RestingBP</th>\n",
       "      <th>Cholesterol</th>\n",
       "      <th>FastingBS</th>\n",
       "      <th>RestingECG</th>\n",
       "      <th>MaxHR</th>\n",
       "      <th>ExerciseAngina</th>\n",
       "      <th>Oldpeak</th>\n",
       "      <th>ST_Slope</th>\n",
       "      <th>HeartDisease</th>\n",
       "    </tr>\n",
       "  </thead>\n",
       "  <tbody>\n",
       "    <tr>\n",
       "      <th>131</th>\n",
       "      <td>B</td>\n",
       "      <td>M</td>\n",
       "      <td>ASY</td>\n",
       "      <td>B</td>\n",
       "      <td>C</td>\n",
       "      <td>0</td>\n",
       "      <td>Normal</td>\n",
       "      <td>B</td>\n",
       "      <td>Y</td>\n",
       "      <td>A</td>\n",
       "      <td>Flat</td>\n",
       "      <td>1</td>\n",
       "    </tr>\n",
       "    <tr>\n",
       "      <th>869</th>\n",
       "      <td>B</td>\n",
       "      <td>M</td>\n",
       "      <td>NAP</td>\n",
       "      <td>B</td>\n",
       "      <td>C</td>\n",
       "      <td>1</td>\n",
       "      <td>Normal</td>\n",
       "      <td>B</td>\n",
       "      <td>N</td>\n",
       "      <td>B</td>\n",
       "      <td>Up</td>\n",
       "      <td>0</td>\n",
       "    </tr>\n",
       "    <tr>\n",
       "      <th>745</th>\n",
       "      <td>C</td>\n",
       "      <td>F</td>\n",
       "      <td>ASY</td>\n",
       "      <td>B</td>\n",
       "      <td>C</td>\n",
       "      <td>0</td>\n",
       "      <td>Normal</td>\n",
       "      <td>B</td>\n",
       "      <td>Y</td>\n",
       "      <td>B</td>\n",
       "      <td>Flat</td>\n",
       "      <td>1</td>\n",
       "    </tr>\n",
       "    <tr>\n",
       "      <th>898</th>\n",
       "      <td>A</td>\n",
       "      <td>M</td>\n",
       "      <td>ATA</td>\n",
       "      <td>B</td>\n",
       "      <td>B</td>\n",
       "      <td>0</td>\n",
       "      <td>Normal</td>\n",
       "      <td>C</td>\n",
       "      <td>N</td>\n",
       "      <td>A</td>\n",
       "      <td>Up</td>\n",
       "      <td>0</td>\n",
       "    </tr>\n",
       "    <tr>\n",
       "      <th>462</th>\n",
       "      <td>B</td>\n",
       "      <td>M</td>\n",
       "      <td>ASY</td>\n",
       "      <td>B</td>\n",
       "      <td>C</td>\n",
       "      <td>0</td>\n",
       "      <td>Normal</td>\n",
       "      <td>A</td>\n",
       "      <td>Y</td>\n",
       "      <td>B</td>\n",
       "      <td>Down</td>\n",
       "      <td>1</td>\n",
       "    </tr>\n",
       "  </tbody>\n",
       "</table>\n",
       "</div>"
      ],
      "text/plain": [
       "    Age Sex ChestPainType RestingBP Cholesterol  FastingBS RestingECG MaxHR  \\\n",
       "131   B   M           ASY         B           C          0     Normal     B   \n",
       "869   B   M           NAP         B           C          1     Normal     B   \n",
       "745   C   F           ASY         B           C          0     Normal     B   \n",
       "898   A   M           ATA         B           B          0     Normal     C   \n",
       "462   B   M           ASY         B           C          0     Normal     A   \n",
       "\n",
       "    ExerciseAngina Oldpeak ST_Slope  HeartDisease  \n",
       "131              Y       A     Flat             1  \n",
       "869              N       B       Up             0  \n",
       "745              Y       B     Flat             1  \n",
       "898              N       A       Up             0  \n",
       "462              Y       B     Down             1  "
      ]
     },
     "execution_count": 5,
     "metadata": {},
     "output_type": "execute_result"
    }
   ],
   "source": [
    "train.head()"
   ]
  },
  {
   "cell_type": "code",
   "execution_count": 6,
   "id": "500f721f",
   "metadata": {},
   "outputs": [
    {
     "data": {
      "text/html": [
       "<div>\n",
       "<style scoped>\n",
       "    .dataframe tbody tr th:only-of-type {\n",
       "        vertical-align: middle;\n",
       "    }\n",
       "\n",
       "    .dataframe tbody tr th {\n",
       "        vertical-align: top;\n",
       "    }\n",
       "\n",
       "    .dataframe thead th {\n",
       "        text-align: right;\n",
       "    }\n",
       "</style>\n",
       "<table border=\"1\" class=\"dataframe\">\n",
       "  <thead>\n",
       "    <tr style=\"text-align: right;\">\n",
       "      <th></th>\n",
       "      <th>Age</th>\n",
       "      <th>Sex</th>\n",
       "      <th>ChestPainType</th>\n",
       "      <th>RestingBP</th>\n",
       "      <th>Cholesterol</th>\n",
       "      <th>FastingBS</th>\n",
       "      <th>RestingECG</th>\n",
       "      <th>MaxHR</th>\n",
       "      <th>ExerciseAngina</th>\n",
       "      <th>Oldpeak</th>\n",
       "      <th>ST_Slope</th>\n",
       "    </tr>\n",
       "  </thead>\n",
       "  <tbody>\n",
       "    <tr>\n",
       "      <th>558</th>\n",
       "      <td>B</td>\n",
       "      <td>M</td>\n",
       "      <td>NAP</td>\n",
       "      <td>B</td>\n",
       "      <td>C</td>\n",
       "      <td>0</td>\n",
       "      <td>ST</td>\n",
       "      <td>B</td>\n",
       "      <td>Y</td>\n",
       "      <td>B</td>\n",
       "      <td>Flat</td>\n",
       "    </tr>\n",
       "    <tr>\n",
       "      <th>432</th>\n",
       "      <td>C</td>\n",
       "      <td>M</td>\n",
       "      <td>ASY</td>\n",
       "      <td>B</td>\n",
       "      <td>B</td>\n",
       "      <td>0</td>\n",
       "      <td>Normal</td>\n",
       "      <td>A</td>\n",
       "      <td>Y</td>\n",
       "      <td>C</td>\n",
       "      <td>Down</td>\n",
       "    </tr>\n",
       "    <tr>\n",
       "      <th>582</th>\n",
       "      <td>C</td>\n",
       "      <td>M</td>\n",
       "      <td>ASY</td>\n",
       "      <td>B</td>\n",
       "      <td>C</td>\n",
       "      <td>1</td>\n",
       "      <td>LVH</td>\n",
       "      <td>A</td>\n",
       "      <td>Y</td>\n",
       "      <td>A</td>\n",
       "      <td>Flat</td>\n",
       "    </tr>\n",
       "    <tr>\n",
       "      <th>258</th>\n",
       "      <td>B</td>\n",
       "      <td>F</td>\n",
       "      <td>NAP</td>\n",
       "      <td>B</td>\n",
       "      <td>B</td>\n",
       "      <td>0</td>\n",
       "      <td>Normal</td>\n",
       "      <td>A</td>\n",
       "      <td>N</td>\n",
       "      <td>B</td>\n",
       "      <td>Up</td>\n",
       "    </tr>\n",
       "    <tr>\n",
       "      <th>574</th>\n",
       "      <td>C</td>\n",
       "      <td>M</td>\n",
       "      <td>ASY</td>\n",
       "      <td>B</td>\n",
       "      <td>C</td>\n",
       "      <td>1</td>\n",
       "      <td>ST</td>\n",
       "      <td>A</td>\n",
       "      <td>Y</td>\n",
       "      <td>B</td>\n",
       "      <td>Flat</td>\n",
       "    </tr>\n",
       "  </tbody>\n",
       "</table>\n",
       "</div>"
      ],
      "text/plain": [
       "    Age Sex ChestPainType RestingBP Cholesterol  FastingBS RestingECG MaxHR  \\\n",
       "558   B   M           NAP         B           C          0         ST     B   \n",
       "432   C   M           ASY         B           B          0     Normal     A   \n",
       "582   C   M           ASY         B           C          1        LVH     A   \n",
       "258   B   F           NAP         B           B          0     Normal     A   \n",
       "574   C   M           ASY         B           C          1         ST     A   \n",
       "\n",
       "    ExerciseAngina Oldpeak ST_Slope  \n",
       "558              Y       B     Flat  \n",
       "432              Y       C     Down  \n",
       "582              Y       A     Flat  \n",
       "258              N       B       Up  \n",
       "574              Y       B     Flat  "
      ]
     },
     "execution_count": 6,
     "metadata": {},
     "output_type": "execute_result"
    }
   ],
   "source": [
    "test.head()"
   ]
  },
  {
   "cell_type": "markdown",
   "id": "65c6b188",
   "metadata": {},
   "source": [
    "## Parameter Learning\n",
    "We use the BN model proposed in \\cite{} and learn the parameters for the network using the given dataset."
   ]
  },
  {
   "cell_type": "code",
   "execution_count": null,
   "id": "3e4d6806",
   "metadata": {},
   "outputs": [],
   "source": []
  },
  {
   "cell_type": "code",
   "execution_count": null,
   "id": "99d40713",
   "metadata": {},
   "outputs": [],
   "source": []
  },
  {
   "cell_type": "code",
   "execution_count": null,
   "id": "c58fcc8a",
   "metadata": {},
   "outputs": [],
   "source": []
  },
  {
   "cell_type": "code",
   "execution_count": null,
   "id": "8ec4aa8a",
   "metadata": {},
   "outputs": [],
   "source": []
  },
  {
   "cell_type": "code",
   "execution_count": null,
   "id": "5af1f317",
   "metadata": {},
   "outputs": [],
   "source": []
  },
  {
   "cell_type": "markdown",
   "id": "da8af8a2",
   "metadata": {},
   "source": [
    "## Learning BN from data\n",
    "In our second approach, we learn the structure of the BN from the dataset."
   ]
  },
  {
   "cell_type": "markdown",
   "id": "1880827c",
   "metadata": {},
   "source": [
    "#### Hill Climb Search"
   ]
  },
  {
   "cell_type": "code",
   "execution_count": 74,
   "id": "beb383c6",
   "metadata": {},
   "outputs": [
    {
     "ename": "TypeError",
     "evalue": "'<' not supported between instances of 'int' and 'str'",
     "output_type": "error",
     "traceback": [
      "\u001b[0;31m---------------------------------------------------------------------------\u001b[0m",
      "\u001b[0;31mTypeError\u001b[0m                                 Traceback (most recent call last)",
      "Cell \u001b[0;32mIn [74], line 1\u001b[0m\n\u001b[0;32m----> 1\u001b[0m hc \u001b[38;5;241m=\u001b[39m HillClimbSearch(train)\n\u001b[1;32m      2\u001b[0m best_model \u001b[38;5;241m=\u001b[39m hc\u001b[38;5;241m.\u001b[39mestimate(scoring_method\u001b[38;5;241m=\u001b[39mBicScore(train))\n",
      "File \u001b[0;32m~/miniforge3/envs/base_venv/lib/python3.9/site-packages/pgmpy/estimators/HillClimbSearch.py:57\u001b[0m, in \u001b[0;36mHillClimbSearch.__init__\u001b[0;34m(self, data, use_cache, **kwargs)\u001b[0m\n\u001b[1;32m     23\u001b[0m \u001b[38;5;124;03m\"\"\"\u001b[39;00m\n\u001b[1;32m     24\u001b[0m \u001b[38;5;124;03mClass for heuristic hill climb searches for DAGs, to learn\u001b[39;00m\n\u001b[1;32m     25\u001b[0m \u001b[38;5;124;03mnetwork structure from data. `estimate` attempts to find a model with optimal score.\u001b[39;00m\n\u001b[0;32m   (...)\u001b[0m\n\u001b[1;32m     53\u001b[0m \u001b[38;5;124;03mSection 18.4.3 (page 811ff)\u001b[39;00m\n\u001b[1;32m     54\u001b[0m \u001b[38;5;124;03m\"\"\"\u001b[39;00m\n\u001b[1;32m     55\u001b[0m \u001b[38;5;28mself\u001b[39m\u001b[38;5;241m.\u001b[39muse_cache \u001b[38;5;241m=\u001b[39m use_cache\n\u001b[0;32m---> 57\u001b[0m \u001b[38;5;28;43msuper\u001b[39;49m\u001b[43m(\u001b[49m\u001b[43mHillClimbSearch\u001b[49m\u001b[43m,\u001b[49m\u001b[43m \u001b[49m\u001b[38;5;28;43mself\u001b[39;49m\u001b[43m)\u001b[49m\u001b[38;5;241;43m.\u001b[39;49m\u001b[38;5;21;43m__init__\u001b[39;49m\u001b[43m(\u001b[49m\u001b[43mdata\u001b[49m\u001b[43m,\u001b[49m\u001b[43m \u001b[49m\u001b[38;5;241;43m*\u001b[39;49m\u001b[38;5;241;43m*\u001b[39;49m\u001b[43mkwargs\u001b[49m\u001b[43m)\u001b[49m\n",
      "File \u001b[0;32m~/miniforge3/envs/base_venv/lib/python3.9/site-packages/pgmpy/estimators/base.py:295\u001b[0m, in \u001b[0;36mStructureEstimator.__init__\u001b[0;34m(self, data, independencies, **kwargs)\u001b[0m\n\u001b[1;32m    292\u001b[0m \u001b[38;5;28;01mif\u001b[39;00m \u001b[38;5;28mself\u001b[39m\u001b[38;5;241m.\u001b[39mindependencies \u001b[38;5;129;01mis\u001b[39;00m \u001b[38;5;129;01mnot\u001b[39;00m \u001b[38;5;28;01mNone\u001b[39;00m:\n\u001b[1;32m    293\u001b[0m     \u001b[38;5;28mself\u001b[39m\u001b[38;5;241m.\u001b[39mvariables \u001b[38;5;241m=\u001b[39m \u001b[38;5;28mself\u001b[39m\u001b[38;5;241m.\u001b[39mindependencies\u001b[38;5;241m.\u001b[39mget_all_variables()\n\u001b[0;32m--> 295\u001b[0m \u001b[38;5;28;43msuper\u001b[39;49m\u001b[43m(\u001b[49m\u001b[43mStructureEstimator\u001b[49m\u001b[43m,\u001b[49m\u001b[43m \u001b[49m\u001b[38;5;28;43mself\u001b[39;49m\u001b[43m)\u001b[49m\u001b[38;5;241;43m.\u001b[39;49m\u001b[38;5;21;43m__init__\u001b[39;49m\u001b[43m(\u001b[49m\u001b[43mdata\u001b[49m\u001b[38;5;241;43m=\u001b[39;49m\u001b[43mdata\u001b[49m\u001b[43m,\u001b[49m\u001b[43m \u001b[49m\u001b[38;5;241;43m*\u001b[39;49m\u001b[38;5;241;43m*\u001b[39;49m\u001b[43mkwargs\u001b[49m\u001b[43m)\u001b[49m\n",
      "File \u001b[0;32m~/miniforge3/envs/base_venv/lib/python3.9/site-packages/pgmpy/estimators/base.py:43\u001b[0m, in \u001b[0;36mBaseEstimator.__init__\u001b[0;34m(self, data, state_names, complete_samples_only)\u001b[0m\n\u001b[1;32m     40\u001b[0m \u001b[38;5;28mself\u001b[39m\u001b[38;5;241m.\u001b[39mvariables \u001b[38;5;241m=\u001b[39m \u001b[38;5;28mlist\u001b[39m(data\u001b[38;5;241m.\u001b[39mcolumns\u001b[38;5;241m.\u001b[39mvalues)\n\u001b[1;32m     42\u001b[0m \u001b[38;5;28;01mif\u001b[39;00m \u001b[38;5;129;01mnot\u001b[39;00m \u001b[38;5;28misinstance\u001b[39m(state_names, \u001b[38;5;28mdict\u001b[39m):\n\u001b[0;32m---> 43\u001b[0m     \u001b[38;5;28mself\u001b[39m\u001b[38;5;241m.\u001b[39mstate_names \u001b[38;5;241m=\u001b[39m {\n\u001b[1;32m     44\u001b[0m         var: \u001b[38;5;28mself\u001b[39m\u001b[38;5;241m.\u001b[39m_collect_state_names(var) \u001b[38;5;28;01mfor\u001b[39;00m var \u001b[38;5;129;01min\u001b[39;00m \u001b[38;5;28mself\u001b[39m\u001b[38;5;241m.\u001b[39mvariables\n\u001b[1;32m     45\u001b[0m     }\n\u001b[1;32m     46\u001b[0m \u001b[38;5;28;01melse\u001b[39;00m:\n\u001b[1;32m     47\u001b[0m     \u001b[38;5;28mself\u001b[39m\u001b[38;5;241m.\u001b[39mstate_names \u001b[38;5;241m=\u001b[39m \u001b[38;5;28mdict\u001b[39m()\n",
      "File \u001b[0;32m~/miniforge3/envs/base_venv/lib/python3.9/site-packages/pgmpy/estimators/base.py:44\u001b[0m, in \u001b[0;36m<dictcomp>\u001b[0;34m(.0)\u001b[0m\n\u001b[1;32m     40\u001b[0m \u001b[38;5;28mself\u001b[39m\u001b[38;5;241m.\u001b[39mvariables \u001b[38;5;241m=\u001b[39m \u001b[38;5;28mlist\u001b[39m(data\u001b[38;5;241m.\u001b[39mcolumns\u001b[38;5;241m.\u001b[39mvalues)\n\u001b[1;32m     42\u001b[0m \u001b[38;5;28;01mif\u001b[39;00m \u001b[38;5;129;01mnot\u001b[39;00m \u001b[38;5;28misinstance\u001b[39m(state_names, \u001b[38;5;28mdict\u001b[39m):\n\u001b[1;32m     43\u001b[0m     \u001b[38;5;28mself\u001b[39m\u001b[38;5;241m.\u001b[39mstate_names \u001b[38;5;241m=\u001b[39m {\n\u001b[0;32m---> 44\u001b[0m         var: \u001b[38;5;28;43mself\u001b[39;49m\u001b[38;5;241;43m.\u001b[39;49m\u001b[43m_collect_state_names\u001b[49m\u001b[43m(\u001b[49m\u001b[43mvar\u001b[49m\u001b[43m)\u001b[49m \u001b[38;5;28;01mfor\u001b[39;00m var \u001b[38;5;129;01min\u001b[39;00m \u001b[38;5;28mself\u001b[39m\u001b[38;5;241m.\u001b[39mvariables\n\u001b[1;32m     45\u001b[0m     }\n\u001b[1;32m     46\u001b[0m \u001b[38;5;28;01melse\u001b[39;00m:\n\u001b[1;32m     47\u001b[0m     \u001b[38;5;28mself\u001b[39m\u001b[38;5;241m.\u001b[39mstate_names \u001b[38;5;241m=\u001b[39m \u001b[38;5;28mdict\u001b[39m()\n",
      "File \u001b[0;32m~/miniforge3/envs/base_venv/lib/python3.9/site-packages/pgmpy/estimators/base.py:62\u001b[0m, in \u001b[0;36mBaseEstimator._collect_state_names\u001b[0;34m(self, variable)\u001b[0m\n\u001b[1;32m     60\u001b[0m \u001b[38;5;28;01mdef\u001b[39;00m \u001b[38;5;21m_collect_state_names\u001b[39m(\u001b[38;5;28mself\u001b[39m, variable):\n\u001b[1;32m     61\u001b[0m     \u001b[38;5;124m\"\u001b[39m\u001b[38;5;124mReturn a list of states that the variable takes in the data.\u001b[39m\u001b[38;5;124m\"\u001b[39m\n\u001b[0;32m---> 62\u001b[0m     states \u001b[38;5;241m=\u001b[39m \u001b[38;5;28;43msorted\u001b[39;49m\u001b[43m(\u001b[49m\u001b[38;5;28;43mlist\u001b[39;49m\u001b[43m(\u001b[49m\u001b[38;5;28;43mself\u001b[39;49m\u001b[38;5;241;43m.\u001b[39;49m\u001b[43mdata\u001b[49m\u001b[38;5;241;43m.\u001b[39;49m\u001b[43mloc\u001b[49m\u001b[43m[\u001b[49m\u001b[43m:\u001b[49m\u001b[43m,\u001b[49m\u001b[43m \u001b[49m\u001b[43mvariable\u001b[49m\u001b[43m]\u001b[49m\u001b[38;5;241;43m.\u001b[39;49m\u001b[43mdropna\u001b[49m\u001b[43m(\u001b[49m\u001b[43m)\u001b[49m\u001b[38;5;241;43m.\u001b[39;49m\u001b[43munique\u001b[49m\u001b[43m(\u001b[49m\u001b[43m)\u001b[49m\u001b[43m)\u001b[49m\u001b[43m)\u001b[49m\n\u001b[1;32m     63\u001b[0m     \u001b[38;5;28;01mreturn\u001b[39;00m states\n",
      "\u001b[0;31mTypeError\u001b[0m: '<' not supported between instances of 'int' and 'str'"
     ]
    }
   ],
   "source": [
    "%%capture output\n",
    "hc = HillClimbSearch(train)\n",
    "best_model = hc.estimate(scoring_method=BicScore(train))\n"
   ]
  },
  {
   "cell_type": "markdown",
   "id": "11657afa",
   "metadata": {},
   "source": [
    "Visualize the learned BN"
   ]
  },
  {
   "cell_type": "code",
   "execution_count": 18,
   "id": "3e216174",
   "metadata": {},
   "outputs": [
    {
     "ename": "NameError",
     "evalue": "name 'best_model' is not defined",
     "output_type": "error",
     "traceback": [
      "\u001b[0;31m---------------------------------------------------------------------------\u001b[0m",
      "\u001b[0;31mNameError\u001b[0m                                 Traceback (most recent call last)",
      "Cell \u001b[0;32mIn [18], line 3\u001b[0m\n\u001b[1;32m      1\u001b[0m bn_hc \u001b[38;5;241m=\u001b[39m graphviz\u001b[38;5;241m.\u001b[39mDigraph(comment\u001b[38;5;241m=\u001b[39m\u001b[38;5;124m'\u001b[39m\u001b[38;5;124mBN learned from data using Hill Climb Search\u001b[39m\u001b[38;5;124m'\u001b[39m)\n\u001b[0;32m----> 3\u001b[0m \u001b[38;5;28;01mfor\u001b[39;00m node \u001b[38;5;129;01min\u001b[39;00m best_model\u001b[38;5;241m.\u001b[39mnodes():\n\u001b[1;32m      4\u001b[0m     bn_hc\u001b[38;5;241m.\u001b[39mnode(node)\n\u001b[1;32m      6\u001b[0m \u001b[38;5;28;01mfor\u001b[39;00m edge \u001b[38;5;129;01min\u001b[39;00m best_model\u001b[38;5;241m.\u001b[39medges():\n",
      "\u001b[0;31mNameError\u001b[0m: name 'best_model' is not defined"
     ]
    }
   ],
   "source": [
    "bn_hc = graphviz.Digraph(comment='BN learned from data using Hill Climb Search')\n",
    "\n",
    "for node in best_model.nodes():\n",
    "    bn_hc.node(node)\n",
    "    \n",
    "for edge in best_model.edges():\n",
    "    bn_hc.edge(edge[0], edge[1])\n",
    "    \n",
    "bn_hc.render(view=True)"
   ]
  },
  {
   "cell_type": "markdown",
   "id": "7d576057",
   "metadata": {},
   "source": [
    "#### Parameter Learning"
   ]
  },
  {
   "cell_type": "code",
   "execution_count": 62,
   "id": "f546d159",
   "metadata": {},
   "outputs": [
    {
     "ename": "NameError",
     "evalue": "name 'best_model' is not defined",
     "output_type": "error",
     "traceback": [
      "\u001b[0;31m---------------------------------------------------------------------------\u001b[0m",
      "\u001b[0;31mNameError\u001b[0m                                 Traceback (most recent call last)",
      "Cell \u001b[0;32mIn [62], line 1\u001b[0m\n\u001b[0;32m----> 1\u001b[0m learned_BN \u001b[38;5;241m=\u001b[39m BayesianNetwork(best_model\u001b[38;5;241m.\u001b[39medges())\n\u001b[1;32m      3\u001b[0m estimator \u001b[38;5;241m=\u001b[39m BayesianEstimator(learned_BN, train)\n\u001b[1;32m      4\u001b[0m estimator\u001b[38;5;241m.\u001b[39mget_parameters()\n",
      "\u001b[0;31mNameError\u001b[0m: name 'best_model' is not defined"
     ]
    }
   ],
   "source": [
    "learned_BN = BayesianNetwork(best_model.edges())\n",
    "\n",
    "estimator = BayesianEstimator(learned_BN, train)\n",
    "estimator.get_parameters()"
   ]
  },
  {
   "cell_type": "code",
   "execution_count": 23,
   "id": "18eaa0b4",
   "metadata": {},
   "outputs": [],
   "source": [
    "learned_BN.fit(train, estimator=BayesianEstimator)"
   ]
  },
  {
   "cell_type": "code",
   "execution_count": 24,
   "id": "4d7efa80",
   "metadata": {},
   "outputs": [
    {
     "data": {
      "text/plain": [
       "True"
      ]
     },
     "execution_count": 24,
     "metadata": {},
     "output_type": "execute_result"
    }
   ],
   "source": [
    "learned_BN.check_model()"
   ]
  },
  {
   "cell_type": "code",
   "execution_count": null,
   "id": "a0c1d2c4",
   "metadata": {},
   "outputs": [],
   "source": []
  },
  {
   "cell_type": "code",
   "execution_count": null,
   "id": "8760867f",
   "metadata": {},
   "outputs": [],
   "source": []
  },
  {
   "cell_type": "markdown",
   "id": "505ebd0e",
   "metadata": {},
   "source": [
    "Validate the learned BN on the test data "
   ]
  },
  {
   "cell_type": "code",
   "execution_count": 21,
   "id": "4361ff1e",
   "metadata": {},
   "outputs": [
    {
     "ename": "ValueError",
     "evalue": "Data has variables which are not in the model",
     "output_type": "error",
     "traceback": [
      "\u001b[0;31m---------------------------------------------------------------------------\u001b[0m",
      "\u001b[0;31mValueError\u001b[0m                                Traceback (most recent call last)",
      "Cell \u001b[0;32mIn [21], line 1\u001b[0m\n\u001b[0;32m----> 1\u001b[0m learned_BN\u001b[38;5;241m.\u001b[39mpredict(test)\n",
      "File \u001b[0;32m~/miniforge3/envs/base_venv/lib/python3.9/site-packages/pgmpy/models/BayesianNetwork.py:700\u001b[0m, in \u001b[0;36mBayesianNetwork.predict\u001b[0;34m(self, data, stochastic, n_jobs)\u001b[0m\n\u001b[1;32m    697\u001b[0m     \u001b[38;5;28;01mraise\u001b[39;00m \u001b[38;5;167;01mValueError\u001b[39;00m(\u001b[38;5;124m\"\u001b[39m\u001b[38;5;124mNo variable missing in data. Nothing to predict\u001b[39m\u001b[38;5;124m\"\u001b[39m)\n\u001b[1;32m    699\u001b[0m \u001b[38;5;28;01melif\u001b[39;00m \u001b[38;5;28mset\u001b[39m(data\u001b[38;5;241m.\u001b[39mcolumns) \u001b[38;5;241m-\u001b[39m \u001b[38;5;28mset\u001b[39m(\u001b[38;5;28mself\u001b[39m\u001b[38;5;241m.\u001b[39mnodes()):\n\u001b[0;32m--> 700\u001b[0m     \u001b[38;5;28;01mraise\u001b[39;00m \u001b[38;5;167;01mValueError\u001b[39;00m(\u001b[38;5;124m\"\u001b[39m\u001b[38;5;124mData has variables which are not in the model\u001b[39m\u001b[38;5;124m\"\u001b[39m)\n\u001b[1;32m    702\u001b[0m missing_variables \u001b[38;5;241m=\u001b[39m \u001b[38;5;28mset\u001b[39m(\u001b[38;5;28mself\u001b[39m\u001b[38;5;241m.\u001b[39mnodes()) \u001b[38;5;241m-\u001b[39m \u001b[38;5;28mset\u001b[39m(data\u001b[38;5;241m.\u001b[39mcolumns)\n\u001b[1;32m    703\u001b[0m model_inference \u001b[38;5;241m=\u001b[39m VariableElimination(\u001b[38;5;28mself\u001b[39m)\n",
      "\u001b[0;31mValueError\u001b[0m: Data has variables which are not in the model"
     ]
    }
   ],
   "source": [
    "learned_BN.predict(test)"
   ]
  },
  {
   "cell_type": "code",
   "execution_count": null,
   "id": "5cece252",
   "metadata": {},
   "outputs": [],
   "source": []
  },
  {
   "cell_type": "code",
   "execution_count": null,
   "id": "3f28de62",
   "metadata": {},
   "outputs": [],
   "source": []
  },
  {
   "cell_type": "code",
   "execution_count": null,
   "id": "99c46677",
   "metadata": {},
   "outputs": [],
   "source": []
  },
  {
   "cell_type": "code",
   "execution_count": null,
   "id": "dbd88e66",
   "metadata": {},
   "outputs": [],
   "source": []
  },
  {
   "cell_type": "code",
   "execution_count": null,
   "id": "794e330c",
   "metadata": {},
   "outputs": [],
   "source": []
  },
  {
   "cell_type": "code",
   "execution_count": null,
   "id": "f93acf34",
   "metadata": {},
   "outputs": [],
   "source": []
  },
  {
   "cell_type": "code",
   "execution_count": null,
   "id": "193eaa0b",
   "metadata": {},
   "outputs": [],
   "source": []
  }
 ],
 "metadata": {
  "kernelspec": {
   "display_name": "Python 3 (ipykernel)",
   "language": "python",
   "name": "python3"
  },
  "language_info": {
   "codemirror_mode": {
    "name": "ipython",
    "version": 3
   },
   "file_extension": ".py",
   "mimetype": "text/x-python",
   "name": "python",
   "nbconvert_exporter": "python",
   "pygments_lexer": "ipython3",
   "version": "3.9.13"
  }
 },
 "nbformat": 4,
 "nbformat_minor": 5
}
