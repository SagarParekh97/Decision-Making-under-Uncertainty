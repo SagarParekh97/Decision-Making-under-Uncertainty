{
 "cells": [
  {
   "cell_type": "markdown",
   "id": "7c6c448d",
   "metadata": {},
   "source": [
    "# Decision Making under Uncertainty - P1\n",
    "\n",
    "Group members\n",
    "- Mohammad Beigi\n",
    "- Sagar Parekh"
   ]
  },
  {
   "cell_type": "markdown",
   "id": "16b54193",
   "metadata": {},
   "source": [
    "## Goal\n",
    "\n",
    "explain the goal in a small paragraph"
   ]
  },
  {
   "cell_type": "markdown",
   "id": "35f8bbe7",
   "metadata": {},
   "source": [
    "## Import Necessary Packages and Load the Dataset"
   ]
  },
  {
   "cell_type": "code",
   "execution_count": 1,
   "id": "ad10446f",
   "metadata": {
    "scrolled": false
   },
   "outputs": [],
   "source": [
    "import pandas as pd\n",
    "import numpy as np\n",
    "import matplotlib.pyplot as plt\n",
    "import seaborn as sns\n",
    "import time\n",
    "\n",
    "from pgmpy.independencies import IndependenceAssertion\n",
    "from pgmpy.estimators import BDeuScore, BicScore\n",
    "from pgmpy.estimators import HillClimbSearch, BayesianEstimator\n",
    "from sklearn.model_selection import train_test_split\n",
    "from pgmpy.models import BayesianNetwork\n",
    "from pgmpy.metrics import correlation_score\n",
    "import graphviz\n",
    "\n",
    "import torch\n",
    "import torch.nn as nn\n",
    "import torch.utils.data as data_utils\n",
    "from tqdm import tqdm\n",
    "\n",
    "from sklearn.tree import DecisionTreeClassifier\n",
    "from sklearn.ensemble import RandomForestClassifier\n",
    "from sklearn import metrics\n"
   ]
  },
  {
   "cell_type": "code",
   "execution_count": 2,
   "id": "3abe8035",
   "metadata": {
    "scrolled": false
   },
   "outputs": [
    {
     "data": {
      "text/html": [
       "<div>\n",
       "<style scoped>\n",
       "    .dataframe tbody tr th:only-of-type {\n",
       "        vertical-align: middle;\n",
       "    }\n",
       "\n",
       "    .dataframe tbody tr th {\n",
       "        vertical-align: top;\n",
       "    }\n",
       "\n",
       "    .dataframe thead th {\n",
       "        text-align: right;\n",
       "    }\n",
       "</style>\n",
       "<table border=\"1\" class=\"dataframe\">\n",
       "  <thead>\n",
       "    <tr style=\"text-align: right;\">\n",
       "      <th></th>\n",
       "      <th>Age</th>\n",
       "      <th>Sex</th>\n",
       "      <th>ChestPainType</th>\n",
       "      <th>RestingBP</th>\n",
       "      <th>Cholesterol</th>\n",
       "      <th>FastingBS</th>\n",
       "      <th>RestingECG</th>\n",
       "      <th>MaxHR</th>\n",
       "      <th>ExerciseAngina</th>\n",
       "      <th>Oldpeak</th>\n",
       "      <th>ST_Slope</th>\n",
       "      <th>HeartDisease</th>\n",
       "    </tr>\n",
       "  </thead>\n",
       "  <tbody>\n",
       "    <tr>\n",
       "      <th>0</th>\n",
       "      <td>40</td>\n",
       "      <td>M</td>\n",
       "      <td>ATA</td>\n",
       "      <td>140</td>\n",
       "      <td>289</td>\n",
       "      <td>0</td>\n",
       "      <td>Normal</td>\n",
       "      <td>172</td>\n",
       "      <td>N</td>\n",
       "      <td>0.0</td>\n",
       "      <td>Up</td>\n",
       "      <td>0</td>\n",
       "    </tr>\n",
       "    <tr>\n",
       "      <th>1</th>\n",
       "      <td>49</td>\n",
       "      <td>F</td>\n",
       "      <td>NAP</td>\n",
       "      <td>160</td>\n",
       "      <td>180</td>\n",
       "      <td>0</td>\n",
       "      <td>Normal</td>\n",
       "      <td>156</td>\n",
       "      <td>N</td>\n",
       "      <td>1.0</td>\n",
       "      <td>Flat</td>\n",
       "      <td>1</td>\n",
       "    </tr>\n",
       "    <tr>\n",
       "      <th>2</th>\n",
       "      <td>37</td>\n",
       "      <td>M</td>\n",
       "      <td>ATA</td>\n",
       "      <td>130</td>\n",
       "      <td>283</td>\n",
       "      <td>0</td>\n",
       "      <td>ST</td>\n",
       "      <td>98</td>\n",
       "      <td>N</td>\n",
       "      <td>0.0</td>\n",
       "      <td>Up</td>\n",
       "      <td>0</td>\n",
       "    </tr>\n",
       "    <tr>\n",
       "      <th>3</th>\n",
       "      <td>48</td>\n",
       "      <td>F</td>\n",
       "      <td>ASY</td>\n",
       "      <td>138</td>\n",
       "      <td>214</td>\n",
       "      <td>0</td>\n",
       "      <td>Normal</td>\n",
       "      <td>108</td>\n",
       "      <td>Y</td>\n",
       "      <td>1.5</td>\n",
       "      <td>Flat</td>\n",
       "      <td>1</td>\n",
       "    </tr>\n",
       "    <tr>\n",
       "      <th>4</th>\n",
       "      <td>54</td>\n",
       "      <td>M</td>\n",
       "      <td>NAP</td>\n",
       "      <td>150</td>\n",
       "      <td>195</td>\n",
       "      <td>0</td>\n",
       "      <td>Normal</td>\n",
       "      <td>122</td>\n",
       "      <td>N</td>\n",
       "      <td>0.0</td>\n",
       "      <td>Up</td>\n",
       "      <td>0</td>\n",
       "    </tr>\n",
       "  </tbody>\n",
       "</table>\n",
       "</div>"
      ],
      "text/plain": [
       "   Age Sex ChestPainType  RestingBP  Cholesterol  FastingBS RestingECG  MaxHR  \\\n",
       "0   40   M           ATA        140          289          0     Normal    172   \n",
       "1   49   F           NAP        160          180          0     Normal    156   \n",
       "2   37   M           ATA        130          283          0         ST     98   \n",
       "3   48   F           ASY        138          214          0     Normal    108   \n",
       "4   54   M           NAP        150          195          0     Normal    122   \n",
       "\n",
       "  ExerciseAngina  Oldpeak ST_Slope  HeartDisease  \n",
       "0              N      0.0       Up             0  \n",
       "1              N      1.0     Flat             1  \n",
       "2              N      0.0       Up             0  \n",
       "3              Y      1.5     Flat             1  \n",
       "4              N      0.0       Up             0  "
      ]
     },
     "execution_count": 2,
     "metadata": {},
     "output_type": "execute_result"
    }
   ],
   "source": [
    "raw_data = pd.read_csv('heart.csv')\n",
    "raw_data.head()\n"
   ]
  },
  {
   "cell_type": "markdown",
   "id": "36a37035",
   "metadata": {},
   "source": [
    "## Analyzing the Data"
   ]
  },
  {
   "cell_type": "markdown",
   "id": "d8553df5",
   "metadata": {},
   "source": [
    "#### Class Distribution\n",
    "We check the data for class imbalance."
   ]
  },
  {
   "cell_type": "code",
   "execution_count": 3,
   "id": "75ee9aee",
   "metadata": {
    "scrolled": false
   },
   "outputs": [
    {
     "data": {
      "text/plain": [
       "<BarContainer object of 2 artists>"
      ]
     },
     "execution_count": 3,
     "metadata": {},
     "output_type": "execute_result"
    },
    {
     "data": {
      "image/png": "[encoded data removed]",
      "text/plain": [
       "<Figure size 640x480 with 1 Axes>"
      ]
     },
     "metadata": {},
     "output_type": "display_data"
    }
   ],
   "source": [
    "[num_1, num_0] = raw_data.HeartDisease.value_counts()\n",
    "plt.bar(['Class 0', 'Class 1'], [num_0, num_1])\n"
   ]
  },
  {
   "cell_type": "markdown",
   "id": "2ed5764d",
   "metadata": {},
   "source": [
    "Since the dataset does not contain a balanced distribution over the two classes, we remove 100 samples from Class 1."
   ]
  },
  {
   "cell_type": "code",
   "execution_count": 4,
   "id": "f6bd8acd",
   "metadata": {
    "scrolled": false
   },
   "outputs": [
    {
     "name": "stdout",
     "output_type": "stream",
     "text": [
      "Length of data before trimming: 918\n",
      "Length of data after trimming: 818\n"
     ]
    },
    {
     "data": {
      "text/plain": [
       "<BarContainer object of 2 artists>"
      ]
     },
     "execution_count": 4,
     "metadata": {},
     "output_type": "execute_result"
    },
    {
     "data": {
      "image/png": "[encoded data removed]",
      "text/plain": [
       "<Figure size 640x480 with 1 Axes>"
      ]
     },
     "metadata": {},
     "output_type": "display_data"
    }
   ],
   "source": [
    "print('Length of data before trimming: {}'.format(len(raw_data)))\n",
    "\n",
    "class_1 = raw_data.index[raw_data['HeartDisease'] == 1].tolist()\n",
    "raw_data.drop(raw_data.index[class_1[:100]], axis=0, inplace=True)\n",
    "raw_data = raw_data.reset_index()\n",
    "raw_data.drop(columns='index', inplace=True)\n",
    "\n",
    "print('Length of data after trimming: {}'.format(len(raw_data)))\n",
    "\n",
    "[num_1, num_0] = raw_data.HeartDisease.value_counts()\n",
    "plt.bar(['Class 0', 'Class 1'], [num_0, num_1])\n"
   ]
  },
  {
   "cell_type": "markdown",
   "id": "cd19e3cf",
   "metadata": {},
   "source": [
    "#### Correlation between Attributes\n",
    "We look at the pairwise correlation between the numeric attributes"
   ]
  },
  {
   "cell_type": "code",
   "execution_count": 5,
   "id": "393c9f47",
   "metadata": {
    "scrolled": false
   },
   "outputs": [
    {
     "data": {
      "image/png": "[encoded data removed]",
      "text/plain": [
       "<Figure size 800x600 with 2 Axes>"
      ]
     },
     "metadata": {},
     "output_type": "display_data"
    }
   ],
   "source": [
    "fig = plt.figure(figsize=(8,6))\n",
    "numerical_features = list(raw_data.select_dtypes(['int', 'float']).columns[:-1])\n",
    "ax = sns.heatmap(raw_data[numerical_features].corr(), annot=True, linewidths=3, square=True, cmap='Blues', fmt=\".0%\")\n",
    "\n",
    "ax.set_title('Pairwise correlations between numerical features', fontsize=14, x=0.50, y=1.03);\n",
    "ax.set_xticklabels(numerical_features, fontsize=14, rotation = 45)\n",
    "ax.set_yticklabels(numerical_features, fontsize=14, rotation= 0);"
   ]
  },
  {
   "cell_type": "markdown",
   "id": "842fc20b",
   "metadata": {},
   "source": [
    "## Processing the Data"
   ]
  },
  {
   "cell_type": "markdown",
   "id": "f711d98b",
   "metadata": {},
   "source": [
    "The pgmpy package can only handle discrete data. However, some of the attributes in the dataset have continuous values."
   ]
  },
  {
   "cell_type": "code",
   "execution_count": 6,
   "id": "354ce94e",
   "metadata": {
    "scrolled": false
   },
   "outputs": [
    {
     "name": "stdout",
     "output_type": "stream",
     "text": [
      "     Age  RestingBP  Cholesterol  MaxHR  Oldpeak\n",
      "0     40        140          289    172      0.0\n",
      "1     37        130          283     98      0.0\n",
      "2     54        150          195    122      0.0\n",
      "3     39        120          339    170      0.0\n",
      "4     45        130          237    170      0.0\n",
      "..   ...        ...          ...    ...      ...\n",
      "813   45        110          264    132      1.2\n",
      "814   68        144          193    141      3.4\n",
      "815   57        130          131    115      1.2\n",
      "816   57        130          236    174      0.0\n",
      "817   38        138          175    173      0.0\n",
      "\n",
      "[818 rows x 5 columns]\n"
     ]
    }
   ],
   "source": [
    "print(raw_data[['Age', 'RestingBP', 'Cholesterol', 'MaxHR', 'Oldpeak']])\n"
   ]
  },
  {
   "cell_type": "markdown",
   "id": "117b0c84",
   "metadata": {},
   "source": [
    "We find the range of the values of these attributes"
   ]
  },
  {
   "cell_type": "code",
   "execution_count": 7,
   "id": "6fbcf2ac",
   "metadata": {
    "scrolled": false
   },
   "outputs": [
    {
     "name": "stdout",
     "output_type": "stream",
     "text": [
      "Age range: 28 - 77\n",
      "RestingBP range: 0 - 200\n",
      "Cholestrol range: 0 - 564\n",
      "MaxHR range: 60 - 202\n",
      "Oldpeak range: -2.6 - 6.2\n"
     ]
    }
   ],
   "source": [
    "print('Age range: {} - {}'.format(raw_data.Age.min(), raw_data.Age.max()))\n",
    "print('RestingBP range: {} - {}'.format(raw_data.RestingBP.min(), raw_data.RestingBP.max()))\n",
    "print('Cholestrol range: {} - {}'.format(raw_data.Cholesterol.min(), raw_data.Cholesterol.max()))\n",
    "print('MaxHR range: {} - {}'.format(raw_data.MaxHR.min(), raw_data.MaxHR.max()))\n",
    "print('Oldpeak range: {} - {}'.format(raw_data.Oldpeak.min(), raw_data.Oldpeak.max()))\n"
   ]
  },
  {
   "cell_type": "markdown",
   "id": "afadf763",
   "metadata": {},
   "source": [
    "So, we discretize the continuous data into tiers based on the following bins (the last values in the range are inclusive, the first values are not)\n",
    "\n",
    "    + Age varies between 28 and 77. We divide it into 3 fixed tiers:\n",
    "    tier 1 - 27 to 43,\n",
    "    tier 2 - 43 to 59,\n",
    "    tier 3 - 59 to 77\n",
    "    \n",
    "    + We discretize RestingBP into 2 tiers:\n",
    "    tier 1 - -1 to 100,\n",
    "    tier 2 - 100 to 200\n",
    "    \n",
    "    + Cholesterol varies between 0 and 603. We divide it into 6 fixed tiers:\n",
    "    tier 1 - -1 to 100,\n",
    "    tier 2 - 100 to 200,\n",
    "    tier 3 - 200 to 300,\n",
    "    tier 4 - 300 to 400,\n",
    "    tier 5 - 400 to 500,\n",
    "    tier 6 - 500 to 564\n",
    "    \n",
    "    + MaxHR varies between 60 and 202. We divide it into 3 fixed tiers: \n",
    "    tier 1 - 59 to 120,\n",
    "    tier 2 - 120 to 170,\n",
    "    tier 3 - 170 to 202\n",
    "    \n",
    "    + Oldpeak varies between -2.6 and 6.2. We discretize it as the following tiers:\n",
    "    tier 1 - -2.7 to 0,\n",
    "    tier 2 - 0 to 2.1,\n",
    "    tier 3 - 2.1 to 4.2,\n",
    "    tier 4 - 4.2 to 6.2"
   ]
  },
  {
   "cell_type": "code",
   "execution_count": 8,
   "id": "674b3562",
   "metadata": {
    "scrolled": false
   },
   "outputs": [
    {
     "data": {
      "text/html": [
       "<div>\n",
       "<style scoped>\n",
       "    .dataframe tbody tr th:only-of-type {\n",
       "        vertical-align: middle;\n",
       "    }\n",
       "\n",
       "    .dataframe tbody tr th {\n",
       "        vertical-align: top;\n",
       "    }\n",
       "\n",
       "    .dataframe thead th {\n",
       "        text-align: right;\n",
       "    }\n",
       "</style>\n",
       "<table border=\"1\" class=\"dataframe\">\n",
       "  <thead>\n",
       "    <tr style=\"text-align: right;\">\n",
       "      <th></th>\n",
       "      <th>Age</th>\n",
       "      <th>Sex</th>\n",
       "      <th>ChestPainType</th>\n",
       "      <th>RestingBP</th>\n",
       "      <th>Cholesterol</th>\n",
       "      <th>FastingBS</th>\n",
       "      <th>RestingECG</th>\n",
       "      <th>MaxHR</th>\n",
       "      <th>ExerciseAngina</th>\n",
       "      <th>Oldpeak</th>\n",
       "      <th>ST_Slope</th>\n",
       "      <th>HeartDisease</th>\n",
       "    </tr>\n",
       "  </thead>\n",
       "  <tbody>\n",
       "    <tr>\n",
       "      <th>0</th>\n",
       "      <td>1</td>\n",
       "      <td>M</td>\n",
       "      <td>ATA</td>\n",
       "      <td>2</td>\n",
       "      <td>3</td>\n",
       "      <td>0</td>\n",
       "      <td>Normal</td>\n",
       "      <td>3</td>\n",
       "      <td>N</td>\n",
       "      <td>1.0</td>\n",
       "      <td>Up</td>\n",
       "      <td>0</td>\n",
       "    </tr>\n",
       "    <tr>\n",
       "      <th>1</th>\n",
       "      <td>1</td>\n",
       "      <td>M</td>\n",
       "      <td>ATA</td>\n",
       "      <td>2</td>\n",
       "      <td>3</td>\n",
       "      <td>0</td>\n",
       "      <td>ST</td>\n",
       "      <td>1</td>\n",
       "      <td>N</td>\n",
       "      <td>1.0</td>\n",
       "      <td>Up</td>\n",
       "      <td>0</td>\n",
       "    </tr>\n",
       "    <tr>\n",
       "      <th>2</th>\n",
       "      <td>2</td>\n",
       "      <td>M</td>\n",
       "      <td>NAP</td>\n",
       "      <td>2</td>\n",
       "      <td>2</td>\n",
       "      <td>0</td>\n",
       "      <td>Normal</td>\n",
       "      <td>2</td>\n",
       "      <td>N</td>\n",
       "      <td>1.0</td>\n",
       "      <td>Up</td>\n",
       "      <td>0</td>\n",
       "    </tr>\n",
       "    <tr>\n",
       "      <th>3</th>\n",
       "      <td>1</td>\n",
       "      <td>M</td>\n",
       "      <td>NAP</td>\n",
       "      <td>2</td>\n",
       "      <td>4</td>\n",
       "      <td>0</td>\n",
       "      <td>Normal</td>\n",
       "      <td>2</td>\n",
       "      <td>N</td>\n",
       "      <td>1.0</td>\n",
       "      <td>Up</td>\n",
       "      <td>0</td>\n",
       "    </tr>\n",
       "    <tr>\n",
       "      <th>4</th>\n",
       "      <td>2</td>\n",
       "      <td>F</td>\n",
       "      <td>ATA</td>\n",
       "      <td>2</td>\n",
       "      <td>3</td>\n",
       "      <td>0</td>\n",
       "      <td>Normal</td>\n",
       "      <td>2</td>\n",
       "      <td>N</td>\n",
       "      <td>1.0</td>\n",
       "      <td>Up</td>\n",
       "      <td>0</td>\n",
       "    </tr>\n",
       "  </tbody>\n",
       "</table>\n",
       "</div>"
      ],
      "text/plain": [
       "   Age Sex ChestPainType  RestingBP  Cholesterol  FastingBS RestingECG  MaxHR  \\\n",
       "0    1   M           ATA          2            3          0     Normal      3   \n",
       "1    1   M           ATA          2            3          0         ST      1   \n",
       "2    2   M           NAP          2            2          0     Normal      2   \n",
       "3    1   M           NAP          2            4          0     Normal      2   \n",
       "4    2   F           ATA          2            3          0     Normal      2   \n",
       "\n",
       "  ExerciseAngina  Oldpeak ST_Slope  HeartDisease  \n",
       "0              N      1.0       Up             0  \n",
       "1              N      1.0       Up             0  \n",
       "2              N      1.0       Up             0  \n",
       "3              N      1.0       Up             0  \n",
       "4              N      1.0       Up             0  "
      ]
     },
     "execution_count": 8,
     "metadata": {},
     "output_type": "execute_result"
    }
   ],
   "source": [
    "boundaries = {\n",
    "             'Age': np.array([[27, 43],\n",
    "                              [43, 59],\n",
    "                              [59, 77]]),\n",
    "             'RestingBP': np.array([[-1, 100],\n",
    "                                    [100, 200]]),\n",
    "             'Cholesterol': np.array([[-1, 100],\n",
    "                                      [100, 200],\n",
    "                                      [200, 300],\n",
    "                                      [300, 400],\n",
    "                                      [400, 500],\n",
    "                                      [500, 564]]),\n",
    "             'MaxHR': np.array([[59, 120],\n",
    "                                [120, 170],\n",
    "                                [170, 202]]),\n",
    "             'Oldpeak': np.array([[-2.7, 0],\n",
    "                                  [0, 2.1],\n",
    "                                  [2.1, 4.2],\n",
    "                                  [4.2, 6.2]])\n",
    "             }\n",
    "\n",
    "def discretize(series, boundaries):\n",
    "    tiers = [1, 2, 3, 4, 5, 6]\n",
    "    \n",
    "    new_series = series.copy()\n",
    "    for idx, elem in enumerate(series):\n",
    "        for i in range(len(boundaries)):\n",
    "            if elem > boundaries[i, 0] and elem <= boundaries[i, 1]:\n",
    "                new_series.at[idx] = tiers[i]\n",
    "    \n",
    "    return new_series\n",
    "    \n",
    "new_columns = {}\n",
    "for i, content in enumerate(raw_data.copy().items()):\n",
    "\n",
    "    (label, series) = content\n",
    "    \n",
    "    if label in ['Age', 'RestingBP', 'Cholesterol', 'MaxHR', 'Oldpeak']:\n",
    "        new_columns[label] = discretize(series, boundaries[label])\n",
    "    else:\n",
    "        new_columns[label] = series.copy()\n",
    "\n",
    "data = pd.DataFrame(new_columns)\n",
    "data.head()\n"
   ]
  },
  {
   "cell_type": "markdown",
   "id": "c32f86bb",
   "metadata": {},
   "source": [
    "Split the dataset into train and test data"
   ]
  },
  {
   "cell_type": "code",
   "execution_count": 9,
   "id": "e48912d4",
   "metadata": {
    "scrolled": false
   },
   "outputs": [
    {
     "name": "stdout",
     "output_type": "stream",
     "text": [
      "Size of training data:  (654, 12)\n",
      "Size of test data:  (164, 11)\n"
     ]
    }
   ],
   "source": [
    "train, test = train_test_split(data.copy(), test_size=0.2)\n",
    "\n",
    "train = train.reset_index()\n",
    "train.drop('index', axis=1, inplace=True)\n",
    "test = test.reset_index()\n",
    "test.drop('index', axis=1, inplace=True)\n",
    "\n",
    "true_labels = test.HeartDisease.copy()\n",
    "test.drop('HeartDisease', axis=1, inplace=True)\n",
    "\n",
    "print('Size of training data: ', train.shape)\n",
    "print('Size of test data: ', test.shape)\n"
   ]
  },
  {
   "cell_type": "markdown",
   "id": "da8af8a2",
   "metadata": {},
   "source": [
    "## Learning BN from Data\n",
    "We learn the structure of a BN from the given dataset. For this, we perform score-based structure learning. The score-based approach first defines a criterion to evaluate how well the Bayesian network fits the data, then searches over the space of DAGs for a structure achieving the maximal score. Here, we use the Bayesian Dirichlet scores as the criterion and use hill climb or gradient ascent method to search the space for optimal score."
   ]
  },
  {
   "cell_type": "code",
   "execution_count": 10,
   "id": "beb383c6",
   "metadata": {
    "scrolled": false
   },
   "outputs": [
    {
     "data": {
      "application/vnd.jupyter.widget-view+json": {
       "model_id": "8ebb0fa53e2147ee998cead42aa3b694",
       "version_major": 2,
       "version_minor": 0
      },
      "text/plain": [
       "  0%|          | 0/10000 [00:00<?, ?it/s]"
      ]
     },
     "metadata": {},
     "output_type": "display_data"
    },
    {
     "name": "stdout",
     "output_type": "stream",
     "text": [
      "Nodes:  ['Age', 'Sex', 'ChestPainType', 'RestingBP', 'Cholesterol', 'FastingBS', 'RestingECG', 'MaxHR', 'ExerciseAngina', 'Oldpeak', 'ST_Slope', 'HeartDisease']\n",
      "\n",
      "Edges:  [('ChestPainType', 'ExerciseAngina'), ('Cholesterol', 'RestingECG'), ('Cholesterol', 'RestingBP'), ('Cholesterol', 'Sex'), ('FastingBS', 'Cholesterol'), ('ExerciseAngina', 'MaxHR'), ('ExerciseAngina', 'FastingBS'), ('Oldpeak', 'Age'), ('ST_Slope', 'HeartDisease'), ('ST_Slope', 'Oldpeak'), ('HeartDisease', 'ChestPainType'), ('HeartDisease', 'ExerciseAngina'), ('HeartDisease', 'Cholesterol'), ('HeartDisease', 'MaxHR'), ('HeartDisease', 'Age'), ('HeartDisease', 'FastingBS'), ('HeartDisease', 'Sex'), ('HeartDisease', 'Oldpeak')]\n",
      "\n",
      "It took 0.755244255065918 seconds to run the code\n"
     ]
    }
   ],
   "source": [
    "tic = time.time()\n",
    "scoring = BDeuScore(train)\n",
    "hc = HillClimbSearch(train)\n",
    "\n",
    "best_model = hc.estimate(scoring_method=scoring, max_indegree=4, max_iter=int(1e4), black_list=[('')])\n",
    "\n",
    "print('Nodes: ', best_model.nodes())\n",
    "print()\n",
    "print('Edges: ', best_model.edges())\n",
    "print()\n",
    "print('It took {} seconds to run the code'.format(time.time() - tic))"
   ]
  },
  {
   "cell_type": "markdown",
   "id": "11657afa",
   "metadata": {},
   "source": [
    "#### Visualize the Learned BN"
   ]
  },
  {
   "cell_type": "code",
   "execution_count": 11,
   "id": "3e216174",
   "metadata": {
    "scrolled": false
   },
   "outputs": [
    {
     "data": {
      "image/svg+xml": [
       "<?xml version=\"1.0\" encoding=\"UTF-8\" standalone=\"no\"?>\n",
       "<!DOCTYPE svg PUBLIC \"-//W3C//DTD SVG 1.1//EN\"\n",
       " \"http://www.w3.org/Graphics/SVG/1.1/DTD/svg11.dtd\">\n",
       "<!-- Generated by graphviz version 2.50.0 (0)\n",
       " -->\n",
       "<!-- Title: Learned Bayesian Network Pages: 1 -->\n",
       "<svg width=\"457pt\" height=\"476pt\"\n",
       " viewBox=\"0.00 0.00 457.30 476.00\" xmlns=\"http://www.w3.org/2000/svg\" xmlns:xlink=\"http://www.w3.org/1999/xlink\">\n",
       "<g id=\"graph0\" class=\"graph\" transform=\"scale(1 1) rotate(0) translate(4 472)\">\n",
       "<title>Learned Bayesian Network</title>\n",
       "<polygon fill=\"white\" stroke=\"transparent\" points=\"-4,4 -4,-472 453.3,-472 453.3,4 -4,4\"/>\n",
       "<!-- Age -->\n",
       "<g id=\"node1\" class=\"node\">\n",
       "<title>Age</title>\n",
       "<ellipse fill=\"none\" stroke=\"black\" cx=\"66.3\" cy=\"-234\" rx=\"27\" ry=\"18\"/>\n",
       "<text text-anchor=\"middle\" x=\"66.3\" y=\"-230.3\" font-family=\"Times,serif\" font-size=\"14.00\">Age</text>\n",
       "</g>\n",
       "<!-- Oldpeak -->\n",
       "<g id=\"node10\" class=\"node\">\n",
       "<title>Oldpeak</title>\n",
       "<ellipse fill=\"none\" stroke=\"black\" cx=\"40.3\" cy=\"-162\" rx=\"40.09\" ry=\"18\"/>\n",
       "<text text-anchor=\"middle\" x=\"40.3\" y=\"-158.3\" font-family=\"Times,serif\" font-size=\"14.00\">Oldpeak</text>\n",
       "</g>\n",
       "<!-- Age&#45;&gt;Oldpeak -->\n",
       "<g id=\"edge8\" class=\"edge\">\n",
       "<title>Age&#45;&gt;Oldpeak</title>\n",
       "<path fill=\"none\" stroke=\"black\" d=\"M60.13,-216.41C57.14,-208.34 53.46,-198.43 50.09,-189.35\"/>\n",
       "<polygon fill=\"black\" stroke=\"black\" points=\"53.36,-188.11 46.59,-179.96 46.8,-190.55 53.36,-188.11\"/>\n",
       "</g>\n",
       "<!-- HeartDisease -->\n",
       "<g id=\"node12\" class=\"node\">\n",
       "<title>HeartDisease</title>\n",
       "<ellipse fill=\"none\" stroke=\"black\" cx=\"184.3\" cy=\"-90\" rx=\"57.69\" ry=\"18\"/>\n",
       "<text text-anchor=\"middle\" x=\"184.3\" y=\"-86.3\" font-family=\"Times,serif\" font-size=\"14.00\">HeartDisease</text>\n",
       "</g>\n",
       "<!-- Age&#45;&gt;HeartDisease -->\n",
       "<g id=\"edge15\" class=\"edge\">\n",
       "<title>Age&#45;&gt;HeartDisease</title>\n",
       "<path fill=\"none\" stroke=\"black\" d=\"M76.89,-217.39C89.44,-199.22 111.31,-168.57 132.3,-144 140.8,-134.05 150.74,-123.65 159.64,-114.73\"/>\n",
       "<polygon fill=\"black\" stroke=\"black\" points=\"162.17,-117.14 166.82,-107.62 157.25,-112.17 162.17,-117.14\"/>\n",
       "</g>\n",
       "<!-- Sex -->\n",
       "<g id=\"node2\" class=\"node\">\n",
       "<title>Sex</title>\n",
       "<ellipse fill=\"none\" stroke=\"black\" cx=\"422.3\" cy=\"-450\" rx=\"27\" ry=\"18\"/>\n",
       "<text text-anchor=\"middle\" x=\"422.3\" y=\"-446.3\" font-family=\"Times,serif\" font-size=\"14.00\">Sex</text>\n",
       "</g>\n",
       "<!-- Cholesterol -->\n",
       "<g id=\"node5\" class=\"node\">\n",
       "<title>Cholesterol</title>\n",
       "<ellipse fill=\"none\" stroke=\"black\" cx=\"246.3\" cy=\"-378\" rx=\"51.19\" ry=\"18\"/>\n",
       "<text text-anchor=\"middle\" x=\"246.3\" y=\"-374.3\" font-family=\"Times,serif\" font-size=\"14.00\">Cholesterol</text>\n",
       "</g>\n",
       "<!-- Sex&#45;&gt;Cholesterol -->\n",
       "<g id=\"edge4\" class=\"edge\">\n",
       "<title>Sex&#45;&gt;Cholesterol</title>\n",
       "<path fill=\"none\" stroke=\"black\" d=\"M399.65,-439.99C371.64,-428.85 323.41,-409.67 288.5,-395.79\"/>\n",
       "<polygon fill=\"black\" stroke=\"black\" points=\"289.62,-392.47 279.04,-392.02 287.04,-398.97 289.62,-392.47\"/>\n",
       "</g>\n",
       "<!-- Sex&#45;&gt;HeartDisease -->\n",
       "<g id=\"edge17\" class=\"edge\">\n",
       "<title>Sex&#45;&gt;HeartDisease</title>\n",
       "<path fill=\"none\" stroke=\"black\" d=\"M426.64,-432.08C433.05,-405.6 444.3,-352.65 444.3,-307 444.3,-307 444.3,-307 444.3,-233 444.3,-144.03 325.58,-110.46 248.59,-98.05\"/>\n",
       "<polygon fill=\"black\" stroke=\"black\" points=\"248.9,-94.55 238.48,-96.5 247.84,-101.47 248.9,-94.55\"/>\n",
       "</g>\n",
       "<!-- ChestPainType -->\n",
       "<g id=\"node3\" class=\"node\">\n",
       "<title>ChestPainType</title>\n",
       "<ellipse fill=\"none\" stroke=\"black\" cx=\"276.3\" cy=\"-162\" rx=\"63.89\" ry=\"18\"/>\n",
       "<text text-anchor=\"middle\" x=\"276.3\" y=\"-158.3\" font-family=\"Times,serif\" font-size=\"14.00\">ChestPainType</text>\n",
       "</g>\n",
       "<!-- ChestPainType&#45;&gt;HeartDisease -->\n",
       "<g id=\"edge11\" class=\"edge\">\n",
       "<title>ChestPainType&#45;&gt;HeartDisease</title>\n",
       "<path fill=\"none\" stroke=\"black\" d=\"M254.96,-144.76C242.56,-135.33 226.77,-123.32 213.27,-113.04\"/>\n",
       "<polygon fill=\"black\" stroke=\"black\" points=\"215.28,-110.18 205.2,-106.91 211.04,-115.75 215.28,-110.18\"/>\n",
       "</g>\n",
       "<!-- RestingBP -->\n",
       "<g id=\"node4\" class=\"node\">\n",
       "<title>RestingBP</title>\n",
       "<ellipse fill=\"none\" stroke=\"black\" cx=\"307.3\" cy=\"-450\" rx=\"48.19\" ry=\"18\"/>\n",
       "<text text-anchor=\"middle\" x=\"307.3\" y=\"-446.3\" font-family=\"Times,serif\" font-size=\"14.00\">RestingBP</text>\n",
       "</g>\n",
       "<!-- RestingBP&#45;&gt;Cholesterol -->\n",
       "<g id=\"edge3\" class=\"edge\">\n",
       "<title>RestingBP&#45;&gt;Cholesterol</title>\n",
       "<path fill=\"none\" stroke=\"black\" d=\"M293.15,-432.76C285.56,-424.06 276.05,-413.15 267.59,-403.43\"/>\n",
       "<polygon fill=\"black\" stroke=\"black\" points=\"270,-400.87 260.79,-395.63 264.72,-405.47 270,-400.87\"/>\n",
       "</g>\n",
       "<!-- FastingBS -->\n",
       "<g id=\"node6\" class=\"node\">\n",
       "<title>FastingBS</title>\n",
       "<ellipse fill=\"none\" stroke=\"black\" cx=\"246.3\" cy=\"-306\" rx=\"47.39\" ry=\"18\"/>\n",
       "<text text-anchor=\"middle\" x=\"246.3\" y=\"-302.3\" font-family=\"Times,serif\" font-size=\"14.00\">FastingBS</text>\n",
       "</g>\n",
       "<!-- Cholesterol&#45;&gt;FastingBS -->\n",
       "<g id=\"edge5\" class=\"edge\">\n",
       "<title>Cholesterol&#45;&gt;FastingBS</title>\n",
       "<path fill=\"none\" stroke=\"black\" d=\"M246.3,-359.7C246.3,-351.98 246.3,-342.71 246.3,-334.11\"/>\n",
       "<polygon fill=\"black\" stroke=\"black\" points=\"249.8,-334.1 246.3,-324.1 242.8,-334.1 249.8,-334.1\"/>\n",
       "</g>\n",
       "<!-- Cholesterol&#45;&gt;HeartDisease -->\n",
       "<g id=\"edge13\" class=\"edge\">\n",
       "<title>Cholesterol&#45;&gt;HeartDisease</title>\n",
       "<path fill=\"none\" stroke=\"black\" d=\"M222.95,-361.8C210.84,-352.49 197.16,-339.41 190.3,-324 159.56,-255.05 170.43,-162.87 178.59,-117.92\"/>\n",
       "<polygon fill=\"black\" stroke=\"black\" points=\"182.04,-118.54 180.48,-108.06 175.17,-117.22 182.04,-118.54\"/>\n",
       "</g>\n",
       "<!-- ExerciseAngina -->\n",
       "<g id=\"node9\" class=\"node\">\n",
       "<title>ExerciseAngina</title>\n",
       "<ellipse fill=\"none\" stroke=\"black\" cx=\"295.3\" cy=\"-234\" rx=\"66.89\" ry=\"18\"/>\n",
       "<text text-anchor=\"middle\" x=\"295.3\" y=\"-230.3\" font-family=\"Times,serif\" font-size=\"14.00\">ExerciseAngina</text>\n",
       "</g>\n",
       "<!-- FastingBS&#45;&gt;ExerciseAngina -->\n",
       "<g id=\"edge7\" class=\"edge\">\n",
       "<title>FastingBS&#45;&gt;ExerciseAngina</title>\n",
       "<path fill=\"none\" stroke=\"black\" d=\"M257.91,-288.41C263.8,-279.99 271.09,-269.58 277.66,-260.2\"/>\n",
       "<polygon fill=\"black\" stroke=\"black\" points=\"280.56,-262.16 283.43,-251.96 274.83,-258.14 280.56,-262.16\"/>\n",
       "</g>\n",
       "<!-- FastingBS&#45;&gt;HeartDisease -->\n",
       "<g id=\"edge16\" class=\"edge\">\n",
       "<title>FastingBS&#45;&gt;HeartDisease</title>\n",
       "<path fill=\"none\" stroke=\"black\" d=\"M236.41,-288.3C230.73,-278.1 223.84,-264.63 219.3,-252 202.96,-206.53 192.94,-150.98 188.02,-118.44\"/>\n",
       "<polygon fill=\"black\" stroke=\"black\" points=\"191.45,-117.72 186.54,-108.33 184.53,-118.73 191.45,-117.72\"/>\n",
       "</g>\n",
       "<!-- RestingECG -->\n",
       "<g id=\"node7\" class=\"node\">\n",
       "<title>RestingECG</title>\n",
       "<ellipse fill=\"none\" stroke=\"black\" cx=\"186.3\" cy=\"-450\" rx=\"55.49\" ry=\"18\"/>\n",
       "<text text-anchor=\"middle\" x=\"186.3\" y=\"-446.3\" font-family=\"Times,serif\" font-size=\"14.00\">RestingECG</text>\n",
       "</g>\n",
       "<!-- RestingECG&#45;&gt;Cholesterol -->\n",
       "<g id=\"edge2\" class=\"edge\">\n",
       "<title>RestingECG&#45;&gt;Cholesterol</title>\n",
       "<path fill=\"none\" stroke=\"black\" d=\"M200.52,-432.41C207.99,-423.69 217.29,-412.85 225.55,-403.21\"/>\n",
       "<polygon fill=\"black\" stroke=\"black\" points=\"228.33,-405.34 232.18,-395.47 223.01,-400.78 228.33,-405.34\"/>\n",
       "</g>\n",
       "<!-- MaxHR -->\n",
       "<g id=\"node8\" class=\"node\">\n",
       "<title>MaxHR</title>\n",
       "<ellipse fill=\"none\" stroke=\"black\" cx=\"364.3\" cy=\"-306\" rx=\"39.79\" ry=\"18\"/>\n",
       "<text text-anchor=\"middle\" x=\"364.3\" y=\"-302.3\" font-family=\"Times,serif\" font-size=\"14.00\">MaxHR</text>\n",
       "</g>\n",
       "<!-- MaxHR&#45;&gt;ExerciseAngina -->\n",
       "<g id=\"edge6\" class=\"edge\">\n",
       "<title>MaxHR&#45;&gt;ExerciseAngina</title>\n",
       "<path fill=\"none\" stroke=\"black\" d=\"M348.64,-289.12C339.89,-280.24 328.82,-269.01 319.03,-259.08\"/>\n",
       "<polygon fill=\"black\" stroke=\"black\" points=\"321.37,-256.46 311.85,-251.8 316.38,-261.38 321.37,-256.46\"/>\n",
       "</g>\n",
       "<!-- MaxHR&#45;&gt;HeartDisease -->\n",
       "<g id=\"edge14\" class=\"edge\">\n",
       "<title>MaxHR&#45;&gt;HeartDisease</title>\n",
       "<path fill=\"none\" stroke=\"black\" d=\"M370.65,-288.14C381.52,-256.08 399.41,-185.79 365.3,-144 338.16,-110.75 291.35,-97.65 252.14,-92.79\"/>\n",
       "<polygon fill=\"black\" stroke=\"black\" points=\"252.41,-89.3 242.09,-91.7 251.65,-96.26 252.41,-89.3\"/>\n",
       "</g>\n",
       "<!-- ExerciseAngina&#45;&gt;ChestPainType -->\n",
       "<g id=\"edge1\" class=\"edge\">\n",
       "<title>ExerciseAngina&#45;&gt;ChestPainType</title>\n",
       "<path fill=\"none\" stroke=\"black\" d=\"M290.6,-215.7C288.48,-207.9 285.93,-198.51 283.58,-189.83\"/>\n",
       "<polygon fill=\"black\" stroke=\"black\" points=\"286.94,-188.84 280.94,-180.1 280.18,-190.67 286.94,-188.84\"/>\n",
       "</g>\n",
       "<!-- ExerciseAngina&#45;&gt;HeartDisease -->\n",
       "<g id=\"edge12\" class=\"edge\">\n",
       "<title>ExerciseAngina&#45;&gt;HeartDisease</title>\n",
       "<path fill=\"none\" stroke=\"black\" d=\"M317.18,-216.72C339.02,-198.47 366.97,-168.24 349.3,-144 327.03,-113.46 286.9,-100.13 251.79,-94.48\"/>\n",
       "<polygon fill=\"black\" stroke=\"black\" points=\"251.95,-90.96 241.56,-93.02 250.96,-97.89 251.95,-90.96\"/>\n",
       "</g>\n",
       "<!-- ST_Slope -->\n",
       "<g id=\"node11\" class=\"node\">\n",
       "<title>ST_Slope</title>\n",
       "<ellipse fill=\"none\" stroke=\"black\" cx=\"112.3\" cy=\"-18\" rx=\"45.49\" ry=\"18\"/>\n",
       "<text text-anchor=\"middle\" x=\"112.3\" y=\"-14.3\" font-family=\"Times,serif\" font-size=\"14.00\">ST_Slope</text>\n",
       "</g>\n",
       "<!-- Oldpeak&#45;&gt;ST_Slope -->\n",
       "<g id=\"edge10\" class=\"edge\">\n",
       "<title>Oldpeak&#45;&gt;ST_Slope</title>\n",
       "<path fill=\"none\" stroke=\"black\" d=\"M48.84,-144.15C61.29,-119.6 84.52,-73.77 99.16,-44.91\"/>\n",
       "<polygon fill=\"black\" stroke=\"black\" points=\"102.36,-46.33 103.77,-35.82 96.12,-43.16 102.36,-46.33\"/>\n",
       "</g>\n",
       "<!-- Oldpeak&#45;&gt;HeartDisease -->\n",
       "<g id=\"edge18\" class=\"edge\">\n",
       "<title>Oldpeak&#45;&gt;HeartDisease</title>\n",
       "<path fill=\"none\" stroke=\"black\" d=\"M66.71,-148.16C88.74,-137.45 120.44,-122.04 145.38,-109.92\"/>\n",
       "<polygon fill=\"black\" stroke=\"black\" points=\"147.11,-112.97 154.57,-105.45 144.05,-106.67 147.11,-112.97\"/>\n",
       "</g>\n",
       "<!-- HeartDisease&#45;&gt;ST_Slope -->\n",
       "<g id=\"edge9\" class=\"edge\">\n",
       "<title>HeartDisease&#45;&gt;ST_Slope</title>\n",
       "<path fill=\"none\" stroke=\"black\" d=\"M167.6,-72.76C158.24,-63.66 146.41,-52.16 136.09,-42.13\"/>\n",
       "<polygon fill=\"black\" stroke=\"black\" points=\"138.51,-39.61 128.91,-35.15 133.64,-44.63 138.51,-39.61\"/>\n",
       "</g>\n",
       "</g>\n",
       "</svg>\n"
      ],
      "text/plain": [
       "<graphviz.graphs.Digraph at 0x176f237c0>"
      ]
     },
     "execution_count": 11,
     "metadata": {},
     "output_type": "execute_result"
    }
   ],
   "source": [
    "bn_hc = graphviz.Digraph('Learned Bayesian Network', comment='BN learned from data using Hill Climb Search')\n",
    "\n",
    "for node in best_model.nodes():\n",
    "    bn_hc.node(node)\n",
    "    \n",
    "for edge in best_model.edges():\n",
    "    bn_hc.edge(edge[1], edge[0])\n",
    "    \n",
    "bn_hc.render(view=True)\n",
    "bn_hc\n"
   ]
  },
  {
   "cell_type": "markdown",
   "id": "7d576057",
   "metadata": {},
   "source": [
    "#### Parameter Learning\n",
    "Once we have learned the structure of the BN from the dataset, we need to learn the values of the conditional probability distributions of each attribute (or node). This is known as parameter learning. Here, we use the Bayesian Parameter Estimator which starts with already existing prior CPDs, that express our beliefs about the variables before the data was observed. Those “priors” are then updated, using the state counts from the observed data. We use Bayesian Dirichlet equivalent uniform prior for our case."
   ]
  },
  {
   "cell_type": "code",
   "execution_count": 12,
   "id": "f546d159",
   "metadata": {
    "scrolled": false
   },
   "outputs": [],
   "source": [
    "model_BN = BayesianNetwork(best_model.edges())\n",
    "model_BN.fit(train, estimator=BayesianEstimator, prior_type='BDeu', equivalent_sample_size=1000)\n"
   ]
  },
  {
   "cell_type": "markdown",
   "id": "cda08f66",
   "metadata": {},
   "source": [
    "Check if the model output by the estimator has any errors. If the output is True, the model is error-free."
   ]
  },
  {
   "cell_type": "code",
   "execution_count": 13,
   "id": "4d7efa80",
   "metadata": {
    "scrolled": false
   },
   "outputs": [
    {
     "data": {
      "text/plain": [
       "True"
      ]
     },
     "execution_count": 13,
     "metadata": {},
     "output_type": "execute_result"
    }
   ],
   "source": [
    "model_BN.check_model()\n"
   ]
  },
  {
   "cell_type": "code",
   "execution_count": 14,
   "id": "8282b6ea",
   "metadata": {
    "scrolled": false
   },
   "outputs": [
    {
     "name": "stdout",
     "output_type": "stream",
     "text": [
      "+--------------------+---------------------+---------------------+\n",
      "| HeartDisease       | HeartDisease(0)     | HeartDisease(1)     |\n",
      "+--------------------+---------------------+---------------------+\n",
      "| ChestPainType(ASY) | 0.25151148730350664 | 0.4607013301088271  |\n",
      "+--------------------+---------------------+---------------------+\n",
      "| ChestPainType(ATA) | 0.29866989117291415 | 0.1656590084643289  |\n",
      "+--------------------+---------------------+---------------------+\n",
      "| ChestPainType(NAP) | 0.27448609431680776 | 0.2067714631197098  |\n",
      "+--------------------+---------------------+---------------------+\n",
      "| ChestPainType(TA)  | 0.17533252720677148 | 0.16686819830713423 |\n",
      "+--------------------+---------------------+---------------------+\n",
      "+-------------------+-----+--------------------+\n",
      "| ChestPainType     | ... | ChestPainType(TA)  |\n",
      "+-------------------+-----+--------------------+\n",
      "| HeartDisease      | ... | HeartDisease(1)    |\n",
      "+-------------------+-----+--------------------+\n",
      "| ExerciseAngina(N) | ... | 0.5398550724637681 |\n",
      "+-------------------+-----+--------------------+\n",
      "| ExerciseAngina(Y) | ... | 0.4601449275362319 |\n",
      "+-------------------+-----+--------------------+\n",
      "+----------------+-----+---------------------+\n",
      "| FastingBS      | ... | FastingBS(1)        |\n",
      "+----------------+-----+---------------------+\n",
      "| HeartDisease   | ... | HeartDisease(1)     |\n",
      "+----------------+-----+---------------------+\n",
      "| Cholesterol(1) | ... | 0.31009830205540656 |\n",
      "+----------------+-----+---------------------+\n",
      "| Cholesterol(2) | ... | 0.13315460232350312 |\n",
      "+----------------+-----+---------------------+\n",
      "| Cholesterol(3) | ... | 0.2109025915996425  |\n",
      "+----------------+-----+---------------------+\n",
      "| Cholesterol(4) | ... | 0.12243074173369078 |\n",
      "+----------------+-----+---------------------+\n",
      "| Cholesterol(5) | ... | 0.11170688114387846 |\n",
      "+----------------+-----+---------------------+\n",
      "| Cholesterol(6) | ... | 0.11170688114387846 |\n",
      "+----------------+-----+---------------------+\n",
      "+--------------------+-----+---------------------+\n",
      "| Cholesterol        | ... | Cholesterol(6)      |\n",
      "+--------------------+-----+---------------------+\n",
      "| RestingECG(LVH)    | ... | 0.3373094764744864  |\n",
      "+--------------------+-----+---------------------+\n",
      "| RestingECG(Normal) | ... | 0.33134526176275675 |\n",
      "+--------------------+-----+---------------------+\n",
      "| RestingECG(ST)     | ... | 0.33134526176275675 |\n",
      "+--------------------+-----+---------------------+\n",
      "+--------------+-----+--------------------+\n",
      "| Cholesterol  | ... | Cholesterol(6)     |\n",
      "+--------------+-----+--------------------+\n",
      "| RestingBP(1) | ... | 0.4970178926441352 |\n",
      "+--------------+-----+--------------------+\n",
      "| RestingBP(2) | ... | 0.5029821073558648 |\n",
      "+--------------+-----+--------------------+\n",
      "+--------------+-----+-----------------+\n",
      "| Cholesterol  | ... | Cholesterol(6)  |\n",
      "+--------------+-----+-----------------+\n",
      "| HeartDisease | ... | HeartDisease(1) |\n",
      "+--------------+-----+-----------------+\n",
      "| Sex(F)       | ... | 0.5             |\n",
      "+--------------+-----+-----------------+\n",
      "| Sex(M)       | ... | 0.5             |\n",
      "+--------------+-----+-----------------+\n",
      "+----------------+-----+---------------------+\n",
      "| ExerciseAngina | ... | ExerciseAngina(Y)   |\n",
      "+----------------+-----+---------------------+\n",
      "| HeartDisease   | ... | HeartDisease(1)     |\n",
      "+----------------+-----+---------------------+\n",
      "| FastingBS(0)   | ... | 0.581858407079646   |\n",
      "+----------------+-----+---------------------+\n",
      "| FastingBS(1)   | ... | 0.41814159292035397 |\n",
      "+----------------+-----+---------------------+\n",
      "+----------------+-----+---------------------+\n",
      "| ExerciseAngina | ... | ExerciseAngina(Y)   |\n",
      "+----------------+-----+---------------------+\n",
      "| HeartDisease   | ... | HeartDisease(1)     |\n",
      "+----------------+-----+---------------------+\n",
      "| MaxHR(1)       | ... | 0.4056047197640118  |\n",
      "+----------------+-----+---------------------+\n",
      "| MaxHR(2)       | ... | 0.4078171091445428  |\n",
      "+----------------+-----+---------------------+\n",
      "| MaxHR(3)       | ... | 0.18657817109144545 |\n",
      "+----------------+-----+---------------------+\n",
      "+--------------+-----+---------------------+\n",
      "| HeartDisease | ... | HeartDisease(1)     |\n",
      "+--------------+-----+---------------------+\n",
      "| ST_Slope     | ... | ST_Slope(Up)        |\n",
      "+--------------+-----+---------------------+\n",
      "| Oldpeak(1.0) | ... | 0.27601156069364163 |\n",
      "+--------------+-----+---------------------+\n",
      "| Oldpeak(2.0) | ... | 0.3323699421965318  |\n",
      "+--------------+-----+---------------------+\n",
      "| Oldpeak(3.0) | ... | 0.2109826589595376  |\n",
      "+--------------+-----+---------------------+\n",
      "| Oldpeak(4.0) | ... | 0.18063583815028902 |\n",
      "+--------------+-----+---------------------+\n",
      "+--------------+-----+--------------------+\n",
      "| HeartDisease | ... | HeartDisease(1)    |\n",
      "+--------------+-----+--------------------+\n",
      "| Oldpeak      | ... | Oldpeak(4.0)       |\n",
      "+--------------+-----+--------------------+\n",
      "| Age(1)       | ... | 0.3255208333333333 |\n",
      "+--------------+-----+--------------------+\n",
      "| Age(2)       | ... | 0.3411458333333333 |\n",
      "+--------------+-----+--------------------+\n",
      "| Age(3)       | ... | 0.3333333333333333 |\n",
      "+--------------+-----+--------------------+\n",
      "+----------------+----------+\n",
      "| ST_Slope(Down) | 0.233575 |\n",
      "+----------------+----------+\n",
      "| ST_Slope(Flat) | 0.371423 |\n",
      "+----------------+----------+\n",
      "| ST_Slope(Up)   | 0.395002 |\n",
      "+----------------+----------+\n",
      "+-----------------+-----+---------------------+\n",
      "| ST_Slope        | ... | ST_Slope(Up)        |\n",
      "+-----------------+-----+---------------------+\n",
      "| HeartDisease(0) | ... | 0.6469387755102041  |\n",
      "+-----------------+-----+---------------------+\n",
      "| HeartDisease(1) | ... | 0.35306122448979593 |\n",
      "+-----------------+-----+---------------------+\n"
     ]
    }
   ],
   "source": [
    "for cpd in model_BN.get_cpds():\n",
    "    print(cpd)"
   ]
  },
  {
   "cell_type": "markdown",
   "id": "505ebd0e",
   "metadata": {},
   "source": [
    "#### Validate the learned BN on the test data\n",
    "After learning the BN and the associated conditional probability distributions, we validate this BN on the test dataset. We find the accuracy of the learned model which is the ration of total samples for which the HeartDisease was correctly classified."
   ]
  },
  {
   "cell_type": "code",
   "execution_count": 15,
   "id": "5cece252",
   "metadata": {
    "scrolled": false
   },
   "outputs": [
    {
     "data": {
      "application/vnd.jupyter.widget-view+json": {
       "model_id": "4c0c4572f0f9436b81a3de5ac5333c84",
       "version_major": 2,
       "version_minor": 0
      },
      "text/plain": [
       "  0%|          | 0/154 [00:00<?, ?it/s]"
      ]
     },
     "metadata": {},
     "output_type": "display_data"
    },
    {
     "name": "stdout",
     "output_type": "stream",
     "text": [
      "It took 3.1202077865600586 seconds for the calculation.\n"
     ]
    }
   ],
   "source": [
    "tic = time.time()\n",
    "predicted_labels = model_BN.predict(test, stochastic=True)\n",
    "\n",
    "print('It took {} seconds for the calculation.'.format(time.time() - tic))"
   ]
  },
  {
   "cell_type": "code",
   "execution_count": 16,
   "id": "99c46677",
   "metadata": {
    "scrolled": false
   },
   "outputs": [
    {
     "name": "stdout",
     "output_type": "stream",
     "text": [
      "Accuracy of Bayesian Network:  0.7621951219512195\n"
     ]
    }
   ],
   "source": [
    "pred_y = np.asarray(predicted_labels).squeeze()\n",
    "true_y = np.asarray(true_labels).squeeze()\n",
    "\n",
    "accuracy_BN = 1 - np.sum(abs(true_y - pred_y)) / len(true_y)\n",
    "print('Accuracy of Bayesian Network: ', accuracy_BN)\n"
   ]
  },
  {
   "cell_type": "markdown",
   "id": "ed22c273",
   "metadata": {},
   "source": [
    "## Analysis of the BN\n",
    "We test how accurate the learn BN model is at capturing the correlation in the data. For this, we use the correlation score metric available in the pgmpy package. This function uses the d-connection/d-separation property to compare the model with variable correlations in a given dataset. For every pair of variables in the dataset, the Chi_square correlation test is done. We say that any two variables are correlated if the test’s p-value < significance_level. The same pair of variables are then tested whether they are d-connected in the network structure or not. Finally the accuracy_score is computed by using the correlation test as the true value and d-connections as predicted values."
   ]
  },
  {
   "cell_type": "code",
   "execution_count": 17,
   "id": "2394d557",
   "metadata": {
    "scrolled": false
   },
   "outputs": [
    {
     "data": {
      "text/plain": [
       "0.803030303030303"
      ]
     },
     "execution_count": 17,
     "metadata": {},
     "output_type": "execute_result"
    }
   ],
   "source": [
    "correlation_score(model_BN, train, test='chi_square', significance_level=0.05, \n",
    "                  return_summary=False, score=metrics.accuracy_score)\n"
   ]
  },
  {
   "cell_type": "markdown",
   "id": "b8933844",
   "metadata": {},
   "source": [
    "## Other Methods for Classification\n",
    "\n",
    "We also explore other models for predicting HeartDisease based on the 11 attributes present in the dataset. Specifically, we use the following methods to compare with the BN model:\n",
    "\n",
    "    + Neural Networks (NN) - This is a very commonly used approach for approximating functional relationship in data in order to perform classification. We use a simple multi-layer perceptron that inputs the values of the 11 attributes and predicts if they indicate a HeartDisease. The categorical attributes in the dataset are converted to one-hot vectors. The output is passed through a sigmoid activation function to scale it to the range [0, 1].\n",
    "    \n",
    "    + Decition Trees - The goal is to create a model that predicts the value of a target variable by learning simple decision rules inferred from the data features. A tree can be seen as a piecewise constant approximation.\n",
    "    \n",
    "    + Random Forests - A random forest is a meta estimator that fits a number of decision tree classifiers on various sub-samples of the dataset and uses averaging to improve the predictive accuracy and control over-fitting.\n",
    "    \n",
    "    "
   ]
  },
  {
   "cell_type": "markdown",
   "id": "4896d833",
   "metadata": {},
   "source": [
    "### Neural Networks\n",
    "#### Preparing the dataset\n",
    "We start by preparing the dataset. We need to convert the values into tensors as well as create one-hot vectors for categorical variables."
   ]
  },
  {
   "cell_type": "code",
   "execution_count": 18,
   "id": "49c34c9f",
   "metadata": {
    "scrolled": false
   },
   "outputs": [],
   "source": [
    "Age = torch.FloatTensor(raw_data.Age.values).unsqueeze(1)\n",
    "Sex = torch.FloatTensor(pd.get_dummies(raw_data.Sex).values)\n",
    "ChestPainType = torch.FloatTensor(pd.get_dummies(raw_data.ChestPainType).values)\n",
    "RestingBP = torch.FloatTensor(raw_data.RestingBP.values).unsqueeze(1)\n",
    "Cholesterol = torch.FloatTensor(raw_data.Cholesterol.values).unsqueeze(1)\n",
    "FastingBS = torch.FloatTensor(raw_data.FastingBS.values).unsqueeze(1)\n",
    "RestingECG = torch.FloatTensor(pd.get_dummies(raw_data.RestingECG).values)\n",
    "MaxHR = torch.FloatTensor(raw_data.MaxHR.values).unsqueeze(1)\n",
    "ExerciseAngina = torch.FloatTensor(pd.get_dummies(raw_data.ExerciseAngina).values)\n",
    "Oldpeak = torch.FloatTensor(raw_data.Oldpeak.values).unsqueeze(1)\n",
    "ST_slope = torch.FloatTensor(pd.get_dummies(raw_data.ST_Slope).values)\n",
    "HeartDisease = torch.FloatTensor(raw_data.HeartDisease.values).unsqueeze(1)\n",
    "\n",
    "data_new = np.concatenate((Age, Sex, ChestPainType, RestingBP, Cholesterol, \n",
    "                         FastingBS, RestingECG, MaxHR, ExerciseAngina, Oldpeak, ST_slope, HeartDisease), axis=1)\n",
    "train_tensor, test_tensor = train_test_split(data_new, test_size=0.2)\n",
    "\n",
    "train_label_tensor = torch.FloatTensor(train_tensor[:, -1])\n",
    "test_label_tensor = torch.FloatTensor(test_tensor[:, -1])\n",
    "\n",
    "train_tensor = torch.FloatTensor(train_tensor[:, :-1])\n",
    "test_tensor = torch.FloatTensor(test_tensor[:, :-1])\n"
   ]
  },
  {
   "cell_type": "markdown",
   "id": "107720c1",
   "metadata": {},
   "source": [
    "#### Define the Neural Network Model"
   ]
  },
  {
   "cell_type": "code",
   "execution_count": 19,
   "id": "78de0ce3",
   "metadata": {
    "scrolled": false
   },
   "outputs": [],
   "source": [
    "def weights_init_(m):\n",
    "    if isinstance(m, nn.Linear):\n",
    "        torch.nn.init.xavier_uniform_(m.weight, gain=1)\n",
    "        torch.nn.init.constant_(m.bias, 0)\n",
    "        \n",
    "class model(nn.Module):\n",
    "    \n",
    "    def __init__(self):\n",
    "        super(model, self).__init__()\n",
    "        self.linear1 = nn.Linear(20, 64)\n",
    "        self.linear2 = nn.Linear(64, 32)\n",
    "        self.linear3 = nn.Linear(32, 1)\n",
    "        \n",
    "        self.criterion = nn.BCELoss()\n",
    "        \n",
    "        self.apply(weights_init_)        \n",
    "    \n",
    "    def forward(self, x):\n",
    "        y_hat = torch.relu(self.linear1(x))\n",
    "        y_hat = torch.relu(self.linear2(y_hat))\n",
    "        return torch.sigmoid(self.linear3(y_hat)).squeeze()\n",
    "        \n",
    "    def train(self, x, y):\n",
    "        y_hat = self.forward(x)\n",
    "        loss = self.criterion(y_hat, y)\n",
    "        return loss\n"
   ]
  },
  {
   "cell_type": "markdown",
   "id": "803580e0",
   "metadata": {},
   "source": [
    "#### Train the Model"
   ]
  },
  {
   "cell_type": "code",
   "execution_count": 20,
   "id": "f93acf34",
   "metadata": {
    "scrolled": false
   },
   "outputs": [
    {
     "name": "stderr",
     "output_type": "stream",
     "text": [
      "100%|██████████████████████████████████████████████████████████████████████████████████████████████████████████████████████████████████████████████████████████████████████████████████████████████████| 500/500 [00:00<00:00, 1926.05it/s]\n"
     ]
    },
    {
     "data": {
      "image/png": "[encoded data removed]",
      "text/plain": [
       "<Figure size 640x480 with 1 Axes>"
      ]
     },
     "metadata": {},
     "output_type": "display_data"
    }
   ],
   "source": [
    "model_NN = model()\n",
    "optimizer = torch.optim.Adam(model_NN.parameters(), lr=1e-4)\n",
    "EPOCH = 500\n",
    "batch_size = 20\n",
    "LOSS = []\n",
    "\n",
    "for epoch in tqdm(range(EPOCH)):\n",
    "    rand_idx = np.random.randint(0, len(train_tensor), size=batch_size)\n",
    "    x = train_tensor[rand_idx, :]\n",
    "    y = train_label_tensor[rand_idx]\n",
    "    \n",
    "    loss = model_NN.train(x, y)\n",
    "    \n",
    "    optimizer.zero_grad()\n",
    "    loss.backward()\n",
    "    optimizer.step()\n",
    "    \n",
    "    LOSS.append(loss.item())\n",
    "    \n",
    "plt.plot(range(1, EPOCH+1), LOSS)\n",
    "plt.show()\n"
   ]
  },
  {
   "cell_type": "markdown",
   "id": "daa0ba48",
   "metadata": {},
   "source": [
    "#### Validate the Learned Network on the Test Data\n",
    "After learning the network, we validate it on the test dataset. We find the accuracy of the learned model which is the ration of total samples for which the HeartDisease was correctly classified."
   ]
  },
  {
   "cell_type": "code",
   "execution_count": 21,
   "id": "d950808f",
   "metadata": {
    "scrolled": false
   },
   "outputs": [
    {
     "name": "stdout",
     "output_type": "stream",
     "text": [
      "Accuracy of Neural Network:  0.7987804878048781\n"
     ]
    }
   ],
   "source": [
    "pred_y = np.round(model_NN.forward(test_tensor).squeeze().detach().numpy())\n",
    "true_y = np.asarray(test_label_tensor)\n",
    "\n",
    "accuracy_NN = 1 - np.sum(abs(pred_y - true_y)) / len(true_y)\n",
    "print('Accuracy of Neural Network: ', accuracy_NN)\n"
   ]
  },
  {
   "cell_type": "markdown",
   "id": "454fe221",
   "metadata": {},
   "source": [
    "### Decision Trees\n",
    "#### Preparing the Dataset\n",
    "We start by preparing the dataset. We need to divide the data into features and labels. Here, HeartDisease is the label. This is a binary classification problem where we want to predict if HeartDisease is True or False depending on the other attribute values."
   ]
  },
  {
   "cell_type": "code",
   "execution_count": 22,
   "id": "fca83274",
   "metadata": {
    "scrolled": false
   },
   "outputs": [],
   "source": [
    "features = data_new[:, :-1]\n",
    "labels = data_new[:, -1]\n",
    "\n",
    "train_DT, test_DT, train_label_DT, test_label_DT = train_test_split(features, labels, test_size=0.2)\n"
   ]
  },
  {
   "cell_type": "markdown",
   "id": "39a5ac6d",
   "metadata": {},
   "source": [
    "#### Train the Decision Tree Classifier"
   ]
  },
  {
   "cell_type": "code",
   "execution_count": 23,
   "id": "d2724a9e",
   "metadata": {
    "scrolled": false
   },
   "outputs": [],
   "source": [
    "model_DT = DecisionTreeClassifier()\n",
    "model_DT = model_DT.fit(train_DT, train_label_DT)\n"
   ]
  },
  {
   "cell_type": "markdown",
   "id": "c4f6c60c",
   "metadata": {},
   "source": [
    "#### Validate the Trained Classifier on the Test Data"
   ]
  },
  {
   "cell_type": "code",
   "execution_count": 24,
   "id": "af90bbdd",
   "metadata": {
    "scrolled": false
   },
   "outputs": [
    {
     "name": "stdout",
     "output_type": "stream",
     "text": [
      "Accuracy of Decision Tree:  0.7317073170731707\n"
     ]
    }
   ],
   "source": [
    "pred_label = model_DT.predict(test_DT)\n",
    "accuracy_DT = 1 - np.sum(np.abs(pred_label - test_label_DT)) / len(pred_label)\n",
    "print('Accuracy of Decision Tree: ', accuracy_DT)\n"
   ]
  },
  {
   "cell_type": "markdown",
   "id": "127f33e2",
   "metadata": {},
   "source": [
    "### Random Forests\n",
    "#### Preparing the Dataset\n",
    "We can use the data that we processed for the Decision Tree model. We split the data into new train and test sets."
   ]
  },
  {
   "cell_type": "code",
   "execution_count": 25,
   "id": "056d108d",
   "metadata": {
    "scrolled": false
   },
   "outputs": [],
   "source": [
    "train_RF, test_RF, train_label_RF, test_label_RF = train_test_split(features, labels, test_size=0.2)\n"
   ]
  },
  {
   "cell_type": "markdown",
   "id": "5b11ae5b",
   "metadata": {},
   "source": [
    "#### Train the Random Forests Classifier"
   ]
  },
  {
   "cell_type": "code",
   "execution_count": 26,
   "id": "10678b63",
   "metadata": {
    "scrolled": false
   },
   "outputs": [],
   "source": [
    "model_RF = RandomForestClassifier(n_estimators=500, max_depth=3)\n",
    "model_RF = model_RF.fit(train_RF, train_label_RF)\n"
   ]
  },
  {
   "cell_type": "markdown",
   "id": "5618430d",
   "metadata": {},
   "source": [
    "#### Validate the Model on Test Data"
   ]
  },
  {
   "cell_type": "code",
   "execution_count": 27,
   "id": "f4d01306",
   "metadata": {
    "scrolled": false
   },
   "outputs": [
    {
     "name": "stdout",
     "output_type": "stream",
     "text": [
      "Accuracy of Random Forest:  0.8719512195121951\n"
     ]
    }
   ],
   "source": [
    "pred_label = model_RF.predict(test_RF)\n",
    "accuracy_RF = 1 - np.sum(np.abs(pred_label - test_label_RF)) / len(pred_label)\n",
    "print('Accuracy of Random Forest: ', accuracy_RF)\n"
   ]
  },
  {
   "cell_type": "markdown",
   "id": "f4f49509",
   "metadata": {},
   "source": [
    "## Comparing the Models\n",
    "We compare the accuracy of the models we trained."
   ]
  },
  {
   "cell_type": "raw",
   "id": "afefed6d",
   "metadata": {
    "scrolled": false
   },
   "source": [
    "pd.DataFrame({'Method': ['Bayesian Network', 'Neural Network', 'Decision Tree', 'Random Forest'], \n",
    "              'Accuracy': [accuracy_BN, accuracy_NN, accuracy_DT, accuracy_RF]})"
   ]
  }
 ],
 "metadata": {
  "kernelspec": {
   "display_name": "Python 3 (ipykernel)",
   "language": "python",
   "name": "python3"
  },
  "language_info": {
   "codemirror_mode": {
    "name": "ipython",
    "version": 3
   },
   "file_extension": ".py",
   "mimetype": "text/x-python",
   "name": "python",
   "nbconvert_exporter": "python",
   "pygments_lexer": "ipython3",
   "version": "3.9.13"
  }
 },
 "nbformat": 4,
 "nbformat_minor": 5
}
